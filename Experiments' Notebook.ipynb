{
 "cells": [
  {
   "cell_type": "code",
   "execution_count": 1,
   "metadata": {
    "scrolled": true
   },
   "outputs": [],
   "source": [
    "import pandas as pd \n",
    "import numpy as np\n",
    "import random\n",
    "import string\n",
    "import tensorflow as tf\n",
    "from segmentation_models import Unet\n",
    "from segmentation_models import get_preprocessing\n",
    "from segmentation_models.losses import categorical_crossentropy\n",
    "from segmentation_models.metrics import iou_score, precision\n"
   ]
  },
  {
   "cell_type": "code",
   "execution_count": null,
   "metadata": {},
   "outputs": [],
   "source": [
    "BACKBONE = 'resnet34'\n",
    "preprocess_input = get_preprocessing(BACKBONE)\n",
    "opt=opt = tf.keras.optimizers.Adam(epsilon=1e-4)\n"
   ]
  },
  {
   "cell_type": "code",
   "execution_count": 2,
   "metadata": {},
   "outputs": [],
   "source": [
    "\n",
    "random.seed(2020)"
   ]
  },
  {
   "cell_type": "code",
   "execution_count": 3,
   "metadata": {},
   "outputs": [],
   "source": [
    "data = pd.read_csv('./letter.data',sep=\"\\t\", header=None)\n"
   ]
  },
  {
   "cell_type": "code",
   "execution_count": 4,
   "metadata": {},
   "outputs": [],
   "source": [
    "letters=data.drop(columns=[0,1,2,3,4,5,134])"
   ]
  },
  {
   "cell_type": "code",
   "execution_count": 6,
   "metadata": {},
   "outputs": [],
   "source": [
    "\n",
    "letters_reshaped= letters.apply(lambda letter: np.reshape(np.ravel(letter),[16,8]) ,axis=1)  \n"
   ]
  },
  {
   "cell_type": "code",
   "execution_count": 7,
   "metadata": {},
   "outputs": [],
   "source": [
    "\n",
    "data=pd.concat([data[[0,1,2,3,4,5]],letters_reshaped],axis=1)\n",
    "\n"
   ]
  },
  {
   "cell_type": "code",
   "execution_count": 8,
   "metadata": {},
   "outputs": [],
   "source": [
    "data.columns=[\"id\",\n",
    "\"letter\",\n",
    "\"next_id\",\n",
    "\"word_id\",\n",
    "\"position\",\n",
    "\"fold\",\n",
    "\"p_i_j\"]\n",
    "\n"
   ]
  },
  {
   "cell_type": "markdown",
   "metadata": {},
   "source": [
    "## reconstitute the word images out of the character ones"
   ]
  },
  {
   "cell_type": "code",
   "execution_count": 11,
   "metadata": {},
   "outputs": [],
   "source": [
    "def has_repeated_letter(word):\n",
    "    word = word.lower()\n",
    "    return any(s==t for s, t in zip(word, word[1:]))"
   ]
  },
  {
   "cell_type": "markdown",
   "metadata": {},
   "source": [
    "## creating the real dataset ( skip this cell when working on the synthetic dataset)"
   ]
  },
  {
   "cell_type": "code",
   "execution_count": 12,
   "metadata": {},
   "outputs": [],
   "source": [
    "word_ids=pd.unique(data[\"word_id\"])\n",
    "words_images=[]\n",
    "for id in word_ids:\n",
    "    letters_images=data[data[\"word_id\"]==id].sort_values(by=[\"position\"])[\"p_i_j\"].to_numpy()\n",
    "    letters=data[data[\"word_id\"]==id].sort_values(by=[\"position\"])[\"letter\"].to_numpy()\n",
    "    word=\"\".join(letters)\n",
    "    if has_repeated_letter(word):\n",
    "            continue\n",
    "    word_image=np.concatenate(letters_images,axis=1)\n",
    "    ground_truth_letters_images= [[[string.ascii_lowercase.index(letter)+1 if pixel==1 else 0 for pixel in row] for row in letter_image] for letter,letter_image in zip(letters,letters_images)]\n",
    "    ground_truth_image=np.concatenate(np.array(ground_truth_letters_images),axis=1)\n",
    "    \n",
    "    shape = np.shape(word_image)\n",
    "    padded_word_image = np.zeros((32, 128))\n",
    "    padded_ground_truth_image = np.zeros((32, 128))\n",
    "    padded_word_image[:shape[0],:shape[1]] = word_image\n",
    "    padded_ground_truth_image[:shape[0],:shape[1]] = ground_truth_image\n",
    "\n",
    "    words_images.append([id,word,padded_word_image,padded_ground_truth_image])\n",
    "      "
   ]
  },
  {
   "cell_type": "markdown",
   "metadata": {},
   "source": [
    "## creating the  synthetic dataset (skip this cell when working on the real dataset)"
   ]
  },
  {
   "cell_type": "code",
   "execution_count": 64,
   "metadata": {},
   "outputs": [],
   "source": [
    "\n",
    "dico=open(r\"./dico.txt\", \"r\",encoding=\"latin\")\n",
    "dico_words=dico.readlines()words_images=[]\n",
    "\n",
    "for i in range(len(dico_words)):\n",
    "    word=dico_words[i]\n",
    "    word=word.rstrip(\"\\n\")\n",
    "    \n",
    "    if \" \" in word or word==\"\":\n",
    "        continue \n",
    "    if len(word)>16:\n",
    "        continue\n",
    "    if has_repeated_letter(word):\n",
    "            continue\n",
    "    id_word=str(i+1)\n",
    "    letters_images=[]\n",
    "    for letter in word:\n",
    "       \n",
    "        letter_pool=data[data[\"letter\"]==letter][\"p_i_j\"] \n",
    "        letter_pool=letter_pool.tolist()\n",
    "        if not letter_pool:\n",
    "            break\n",
    "\n",
    "        picked_letter_image=random.choice(letter_pool)   \n",
    "        letters_images.append(picked_letter_image)\n",
    "    if not letters_images:\n",
    "        continue\n",
    "    word_image=np.concatenate(np.array(letters_images),axis=1)\n",
    "    \n",
    "    ground_truth_letters_images= [[[string.ascii_lowercase.index(letter)+1 if pixel==1 else 0 for pixel in row] for row in letter_image] for letter,letter_image in zip(word,letters_images)]\n",
    "    ground_truth_image=np.concatenate(np.array(ground_truth_letters_images),axis=1)\n",
    "    \n",
    "    shape = np.shape(word_image)\n",
    "    padded_word_image = np.zeros((32, 128))\n",
    "    padded_ground_truth_image = np.zeros((32, 128))\n",
    "    padded_word_image[:shape[0],:shape[1]] = word_image\n",
    "    padded_ground_truth_image[:shape[0],:shape[1]] = ground_truth_image\n",
    "    words_images.append([id_word,word,padded_word_image,padded_ground_truth_image])\n",
    "\n"
   ]
  },
  {
   "cell_type": "code",
   "execution_count": 13,
   "metadata": {},
   "outputs": [],
   "source": [
    "word_data=pd.DataFrame(words_images)\n",
    "word_data.columns=[\"id\",\"word\",\"word_image\",\"ground_truth\"]"
   ]
  },
  {
   "cell_type": "code",
   "execution_count": 14,
   "metadata": {},
   "outputs": [
    {
     "data": {
      "text/plain": [
       "35"
      ]
     },
     "execution_count": 14,
     "metadata": {},
     "output_type": "execute_result"
    }
   ],
   "source": [
    "len(pd.unique(word_data[\"word\"]))"
   ]
  },
  {
   "cell_type": "code",
   "execution_count": 15,
   "metadata": {},
   "outputs": [
    {
     "data": {
      "text/plain": [
       "(4358, 4)"
      ]
     },
     "execution_count": 15,
     "metadata": {},
     "output_type": "execute_result"
    }
   ],
   "source": [
    "word_data.shape"
   ]
  },
  {
   "cell_type": "code",
   "execution_count": 16,
   "metadata": {},
   "outputs": [],
   "source": [
    "from numpy import array, newaxis"
   ]
  },
  {
   "cell_type": "code",
   "execution_count": 17,
   "metadata": {},
   "outputs": [],
   "source": [
    "msk = np.random.rand(len(word_data)) < 0.8\n",
    "train = word_data[msk]\n",
    "val= word_data[~msk]"
   ]
  },
  {
   "cell_type": "code",
   "execution_count": 18,
   "metadata": {},
   "outputs": [],
   "source": [
    "x_train=train[\"word_image\"].to_numpy()\n",
    "y_train=train[\"ground_truth\"].to_numpy()\n",
    "x_val=val[\"word_image\"].to_numpy()\n",
    "y_val=val[\"ground_truth\"].to_numpy()\n",
    "\n"
   ]
  },
  {
   "cell_type": "code",
   "execution_count": 19,
   "metadata": {},
   "outputs": [],
   "source": [
    "x_train=array( [array(xi) for xi in [array(xs) for xs in x_train]])\n",
    "y_train=array( [array(xi) for xi in [array(xs) for xs in y_train]])\n",
    "x_val=array( [array(xi) for xi in [array(xs) for xs in x_val]])\n",
    "y_val=array( [array(xi) for xi in [array(xs) for xs in y_val]])\n"
   ]
  },
  {
   "cell_type": "code",
   "execution_count": 20,
   "metadata": {},
   "outputs": [],
   "source": [
    "# x_train=array( [array(xi) for xi in [array(xs) for xs in x_train]])\n",
    "# y_train= [xi.tolist()  for xi in [xs for xs in y_train]]\n",
    "# x_val=array( [array(xi) for xi in [array(xs) for xs in x_val]])\n",
    "# y_val= [xi.tolist() for xi in [xs for xs in y_val]]"
   ]
  },
  {
   "cell_type": "code",
   "execution_count": 21,
   "metadata": {},
   "outputs": [
    {
     "data": {
      "text/plain": [
       "(3481, 32, 128)"
      ]
     },
     "execution_count": 21,
     "metadata": {},
     "output_type": "execute_result"
    }
   ],
   "source": [
    "x_train.shape\n"
   ]
  },
  {
   "cell_type": "code",
   "execution_count": 22,
   "metadata": {},
   "outputs": [
    {
     "data": {
      "text/plain": [
       "(3481, 32, 128)"
      ]
     },
     "execution_count": 22,
     "metadata": {},
     "output_type": "execute_result"
    }
   ],
   "source": [
    "y_train.shape"
   ]
  },
  {
   "cell_type": "markdown",
   "metadata": {},
   "source": [
    "## The augmentation process"
   ]
  },
  {
   "cell_type": "code",
   "execution_count": 23,
   "metadata": {},
   "outputs": [],
   "source": [
    "def augment(image,ground_truth):\n",
    "    image = tf.keras.preprocessing.image.apply_affine_transform(\n",
    "    image, theta=0, tx=0, ty=0, shear=0, zx=0.5, zy=1, row_axis=0, col_axis=1,\n",
    "    channel_axis=0, fill_mode='nearest', cval=0.0, order=1\n",
    ")\n",
    "    ground_truth=tf.keras.preprocessing.image.apply_affine_transform(\n",
    "    ground_truth, theta=0, tx=0, ty=0, shear=0, zx=0.5, zy=1, row_axis=0, col_axis=1,\n",
    "    channel_axis=0, fill_mode='nearest', cval=0.0, order=1\n",
    ")\n",
    "\n",
    "\n",
    "    return image, ground_truth"
   ]
  },
  {
   "cell_type": "code",
   "execution_count": 24,
   "metadata": {},
   "outputs": [],
   "source": [
    "aug_x_train=[]\n",
    "aug_y_train=[]\n",
    "for im, gt in zip(x_train,y_train):\n",
    "    aug_im,aug_gt=augment(im,gt)\n",
    "    aug_x_train.append(aug_im)\n",
    "    aug_y_train.append(aug_gt)"
   ]
  },
  {
   "cell_type": "markdown",
   "metadata": {},
   "source": [
    "## visualizing the results  of the augmentation process on real data"
   ]
  },
  {
   "cell_type": "code",
   "execution_count": 25,
   "metadata": {},
   "outputs": [
    {
     "data": {
      "image/png": "[encoded data removed]",
      "text/plain": [
       "<Figure size 432x288 with 1 Axes>"
      ]
     },
     "metadata": {
      "needs_background": "light"
     },
     "output_type": "display_data"
    },
    {
     "data": {
      "image/png": "[encoded data removed]",
      "text/plain": [
       "<Figure size 432x288 with 1 Axes>"
      ]
     },
     "metadata": {
      "needs_background": "light"
     },
     "output_type": "display_data"
    },
    {
     "data": {
      "image/png": "[encoded data removed]",
      "text/plain": [
       "<Figure size 432x288 with 1 Axes>"
      ]
     },
     "metadata": {
      "needs_background": "light"
     },
     "output_type": "display_data"
    },
    {
     "data": {
      "image/png": "[encoded data removed]",
      "text/plain": [
       "<Figure size 432x288 with 1 Axes>"
      ]
     },
     "metadata": {
      "needs_background": "light"
     },
     "output_type": "display_data"
    }
   ],
   "source": [
    "from matplotlib import pyplot as plt\n",
    "plt.imshow(x_train[5], interpolation='nearest')\n",
    "plt.show()\n",
    "plt.imshow(aug_x_train[5], interpolation='nearest')\n",
    "plt.show()\n",
    "\n",
    "plt.imshow(y_train[5], interpolation='nearest')\n",
    "plt.show()\n",
    "\n",
    "plt.imshow(aug_y_train[5], interpolation='nearest')\n",
    "plt.show()\n"
   ]
  },
  {
   "cell_type": "code",
   "execution_count": 26,
   "metadata": {},
   "outputs": [],
   "source": [
    "aug_x_val=[]\n",
    "aug_y_val=[]\n",
    "for im, gt in zip(x_val,y_val):\n",
    "    aug_im,aug_gt=augment(im,gt)\n",
    "    aug_x_val.append(aug_im)\n",
    "    aug_y_val.append(aug_gt)"
   ]
  },
  {
   "cell_type": "code",
   "execution_count": null,
   "metadata": {},
   "outputs": [],
   "source": []
  },
  {
   "cell_type": "code",
   "execution_count": 27,
   "metadata": {},
   "outputs": [],
   "source": [
    "aug_x_train=array([array(aug_x) for aug_x in aug_x_train])\n",
    "aug_x_val=array([array(aug_x) for aug_x in aug_x_val])\n"
   ]
  },
  {
   "cell_type": "code",
   "execution_count": 28,
   "metadata": {},
   "outputs": [],
   "source": [
    "aug_y_train=array([array(aug_y) for aug_y in aug_y_train])\n",
    "aug_y_val=array([array(aug_y) for aug_y in aug_y_val])"
   ]
  },
  {
   "cell_type": "code",
   "execution_count": 29,
   "metadata": {},
   "outputs": [
    {
     "data": {
      "text/plain": [
       "3481"
      ]
     },
     "execution_count": 29,
     "metadata": {},
     "output_type": "execute_result"
    }
   ],
   "source": [
    "len(aug_y_train)\n"
   ]
  },
  {
   "cell_type": "code",
   "execution_count": 30,
   "metadata": {},
   "outputs": [],
   "source": [
    "x_train=np.concatenate((aug_x_train,x_train))\n",
    "x_val=np.concatenate((aug_x_val,x_val))\n",
    "y_train=np.concatenate((aug_y_train,y_train))\n",
    "y_val=np.concatenate((aug_y_val,y_val))\n"
   ]
  },
  {
   "cell_type": "code",
   "execution_count": 31,
   "metadata": {},
   "outputs": [
    {
     "data": {
      "text/plain": [
       "1754"
      ]
     },
     "execution_count": 31,
     "metadata": {},
     "output_type": "execute_result"
    }
   ],
   "source": [
    "len(x_val)"
   ]
  },
  {
   "cell_type": "code",
   "execution_count": 35,
   "metadata": {},
   "outputs": [
    {
     "data": {
      "text/plain": [
       "6962"
      ]
     },
     "execution_count": 35,
     "metadata": {},
     "output_type": "execute_result"
    }
   ],
   "source": [
    "len(x_train)"
   ]
  },
  {
   "cell_type": "code",
   "execution_count": 33,
   "metadata": {},
   "outputs": [],
   "source": [
    "x_train=array([np.dstack( ( im, np.zeros((32,128)), np.zeros((32,128))) ) for im in x_train])\n",
    "# y_train=array([im.reshape((ibm.shape[0],im.shape[1],27)) for im in y_train])\n",
    "x_val=array([np.dstack( ( im, np.zeros((32,128)), np.zeros((32,128))) ) for im in x_val])\n",
    "# y_val=array([im.reshape((im.shape[0],im.shape[1],27)) for im in y_val])"
   ]
  },
  {
   "cell_type": "code",
   "execution_count": 34,
   "metadata": {},
   "outputs": [],
   "source": [
    "x_train=x_train[0:100000]\n",
    "y_train=y_train[0:100000]\n",
    "x_val=x_val[0:25000]\n",
    "y_val=y_val[0:25000]"
   ]
  },
  {
   "cell_type": "code",
   "execution_count": null,
   "metadata": {},
   "outputs": [],
   "source": [
    "x_val=x_val[0:70000]\n",
    "y_val=y_val[0:70000]"
   ]
  },
  {
   "cell_type": "markdown",
   "metadata": {},
   "source": [
    "## getting the right data format to train the model"
   ]
  },
  {
   "cell_type": "code",
   "execution_count": 37,
   "metadata": {},
   "outputs": [],
   "source": [
    "y_train = tf.cast(y_train, tf.int32)\n"
   ]
  },
  {
   "cell_type": "code",
   "execution_count": 38,
   "metadata": {},
   "outputs": [],
   "source": [
    "y_train=array (tf.one_hot(y_train, 27 ,dtype=tf.float16 ))\n"
   ]
  },
  {
   "cell_type": "code",
   "execution_count": 39,
   "metadata": {},
   "outputs": [],
   "source": [
    "y_val = tf.cast(y_val, tf.int32)"
   ]
  },
  {
   "cell_type": "code",
   "execution_count": 40,
   "metadata": {},
   "outputs": [],
   "source": [
    "y_val=array (tf.one_hot(y_val, 27,dtype=tf.float16)  )\n"
   ]
  },
  {
   "cell_type": "code",
   "execution_count": 41,
   "metadata": {},
   "outputs": [
    {
     "data": {
      "text/plain": [
       "(6962, 32, 128, 27)"
      ]
     },
     "execution_count": 41,
     "metadata": {},
     "output_type": "execute_result"
    }
   ],
   "source": [
    "y_train.shape"
   ]
  },
  {
   "cell_type": "code",
   "execution_count": 42,
   "metadata": {},
   "outputs": [
    {
     "data": {
      "text/plain": [
       "(1754, 32, 128, 3)"
      ]
     },
     "execution_count": 42,
     "metadata": {},
     "output_type": "execute_result"
    }
   ],
   "source": [
    "x_val.shape"
   ]
  },
  {
   "cell_type": "code",
   "execution_count": 43,
   "metadata": {},
   "outputs": [
    {
     "data": {
      "text/plain": [
       "(1754, 32, 128, 27)"
      ]
     },
     "execution_count": 43,
     "metadata": {},
     "output_type": "execute_result"
    }
   ],
   "source": [
    "np.array(y_val).shape"
   ]
  },
  {
   "cell_type": "markdown",
   "metadata": {},
   "source": [
    "## Training on the real data set with augmentation "
   ]
  },
  {
   "cell_type": "code",
   "execution_count": 45,
   "metadata": {
    "scrolled": true
   },
   "outputs": [
    {
     "name": "stdout",
     "output_type": "stream",
     "text": [
      "Train on 6962 samples, validate on 1754 samples\n",
      "Epoch 1/100\n",
      "6962/6962 [==============================] - 26s 4ms/step - loss: 0.0348 - precision: 0.0469 - iou_score: 0.0322 - val_loss: 0.0207 - val_precision: 0.0374 - val_iou_score: 0.0334\n",
      "Epoch 2/100\n",
      "6962/6962 [==============================] - 19s 3ms/step - loss: 0.0116 - precision: 0.0627 - iou_score: 0.0485 - val_loss: 0.0242 - val_precision: 0.0377 - val_iou_score: 0.0340\n",
      "Epoch 3/100\n",
      "6962/6962 [==============================] - 18s 3ms/step - loss: 0.0103 - precision: 0.0758 - iou_score: 0.0556 - val_loss: 0.0215 - val_precision: 0.0476 - val_iou_score: 0.0347\n",
      "Epoch 4/100\n",
      "6962/6962 [==============================] - 19s 3ms/step - loss: 0.0091 - precision: 0.0975 - iou_score: 0.0680 - val_loss: 0.0137 - val_precision: 0.0761 - val_iou_score: 0.0410\n",
      "Epoch 5/100\n",
      "6962/6962 [==============================] - 18s 3ms/step - loss: 0.0081 - precision: 0.1230 - iou_score: 0.0837 - val_loss: 0.0084 - val_precision: 0.1138 - val_iou_score: 0.0654\n",
      "Epoch 6/100\n",
      "6962/6962 [==============================] - 18s 3ms/step - loss: 0.0071 - precision: 0.1545 - iou_score: 0.1041 - val_loss: 0.0066 - val_precision: 0.1491 - val_iou_score: 0.0935\n",
      "Epoch 7/100\n",
      "6962/6962 [==============================] - 18s 3ms/step - loss: 0.0061 - precision: 0.1976 - iou_score: 0.1333 - val_loss: 0.0055 - val_precision: 0.1875 - val_iou_score: 0.1208\n",
      "Epoch 8/100\n",
      "6962/6962 [==============================] - 18s 3ms/step - loss: 0.0050 - precision: 0.2561 - iou_score: 0.1749 - val_loss: 0.0047 - val_precision: 0.2375 - val_iou_score: 0.1523\n",
      "Epoch 9/100\n",
      "6962/6962 [==============================] - 18s 3ms/step - loss: 0.0041 - precision: 0.3259 - iou_score: 0.2262 - val_loss: 0.0036 - val_precision: 0.2775 - val_iou_score: 0.1891\n",
      "Epoch 10/100\n",
      "6962/6962 [==============================] - 19s 3ms/step - loss: 0.0033 - precision: 0.4001 - iou_score: 0.2851 - val_loss: 0.0030 - val_precision: 0.3149 - val_iou_score: 0.2204\n",
      "Epoch 11/100\n",
      "6962/6962 [==============================] - 18s 3ms/step - loss: 0.0026 - precision: 0.4849 - iou_score: 0.3555 - val_loss: 0.0023 - val_precision: 0.3650 - val_iou_score: 0.2659\n",
      "Epoch 12/100\n",
      "6962/6962 [==============================] - 18s 3ms/step - loss: 0.0020 - precision: 0.5760 - iou_score: 0.4386 - val_loss: 0.0019 - val_precision: 0.3861 - val_iou_score: 0.2976\n",
      "Epoch 13/100\n",
      "6962/6962 [==============================] - 18s 3ms/step - loss: 0.0016 - precision: 0.6530 - iou_score: 0.5169 - val_loss: 0.0015 - val_precision: 0.4115 - val_iou_score: 0.3348\n",
      "Epoch 14/100\n",
      "6962/6962 [==============================] - 19s 3ms/step - loss: 0.0013 - precision: 0.7121 - iou_score: 0.5825 - val_loss: 0.0013 - val_precision: 0.4272 - val_iou_score: 0.3568\n",
      "Epoch 15/100\n",
      "6962/6962 [==============================] - 18s 3ms/step - loss: 0.0011 - precision: 0.7531 - iou_score: 0.6315 - val_loss: 0.0011 - val_precision: 0.4340 - val_iou_score: 0.3727\n",
      "Epoch 16/100\n",
      "6962/6962 [==============================] - 18s 3ms/step - loss: 8.9936e-04 - precision: 0.7854 - iou_score: 0.6727 - val_loss: 9.7170e-04 - val_precision: 0.4486 - val_iou_score: 0.3913\n",
      "Epoch 17/100\n",
      "6962/6962 [==============================] - 18s 3ms/step - loss: 7.7891e-04 - precision: 0.8105 - iou_score: 0.7062 - val_loss: 8.0211e-04 - val_precision: 0.4618 - val_iou_score: 0.4097\n",
      "Epoch 18/100\n",
      "6962/6962 [==============================] - 18s 3ms/step - loss: 6.9861e-04 - precision: 0.8278 - iou_score: 0.7300 - val_loss: 7.7365e-04 - val_precision: 0.4639 - val_iou_score: 0.4139\n",
      "Epoch 19/100\n",
      "6962/6962 [==============================] - 18s 3ms/step - loss: 6.0679e-04 - precision: 0.8479 - iou_score: 0.7581 - val_loss: 6.6370e-04 - val_precision: 0.4757 - val_iou_score: 0.4294\n",
      "Epoch 20/100\n",
      "6962/6962 [==============================] - 18s 3ms/step - loss: 5.4138e-04 - precision: 0.8611 - iou_score: 0.7778 - val_loss: 6.3548e-04 - val_precision: 0.4806 - val_iou_score: 0.4355\n",
      "Epoch 21/100\n",
      "6962/6962 [==============================] - 18s 3ms/step - loss: 4.8773e-04 - precision: 0.8743 - iou_score: 0.7970 - val_loss: 6.0057e-04 - val_precision: 0.4852 - val_iou_score: 0.4418\n",
      "Epoch 22/100\n",
      "6962/6962 [==============================] - 19s 3ms/step - loss: 4.4035e-04 - precision: 0.8829 - iou_score: 0.8110 - val_loss: 5.2213e-04 - val_precision: 0.4915 - val_iou_score: 0.4536\n",
      "Epoch 23/100\n",
      "6962/6962 [==============================] - 18s 3ms/step - loss: 3.9977e-04 - precision: 0.8928 - iou_score: 0.8260 - val_loss: 6.0941e-04 - val_precision: 0.4808 - val_iou_score: 0.4437\n",
      "Epoch 24/100\n",
      "6962/6962 [==============================] - 18s 3ms/step - loss: 3.6441e-04 - precision: 0.9003 - iou_score: 0.8381 - val_loss: 4.9223e-04 - val_precision: 0.4916 - val_iou_score: 0.4604\n",
      "Epoch 25/100\n",
      "6962/6962 [==============================] - 18s 3ms/step - loss: 3.4221e-04 - precision: 0.9070 - iou_score: 0.8480 - val_loss: 4.6285e-04 - val_precision: 0.5003 - val_iou_score: 0.4637\n",
      "Epoch 26/100\n",
      "6962/6962 [==============================] - 18s 3ms/step - loss: 3.0351e-04 - precision: 0.9163 - iou_score: 0.8621 - val_loss: 4.1375e-04 - val_precision: 0.5043 - val_iou_score: 0.4704\n",
      "Epoch 27/100\n",
      "6962/6962 [==============================] - 19s 3ms/step - loss: 2.8144e-04 - precision: 0.9198 - iou_score: 0.8689 - val_loss: 4.0512e-04 - val_precision: 0.5061 - val_iou_score: 0.4750\n",
      "Epoch 28/100\n",
      "6962/6962 [==============================] - 19s 3ms/step - loss: 2.5820e-04 - precision: 0.9244 - iou_score: 0.8768 - val_loss: 3.6636e-04 - val_precision: 0.5089 - val_iou_score: 0.4803\n",
      "Epoch 29/100\n",
      "6962/6962 [==============================] - 19s 3ms/step - loss: 2.4110e-04 - precision: 0.9291 - iou_score: 0.8842 - val_loss: 3.7640e-04 - val_precision: 0.5075 - val_iou_score: 0.4824\n",
      "Epoch 30/100\n",
      "6962/6962 [==============================] - 18s 3ms/step - loss: 2.2408e-04 - precision: 0.9318 - iou_score: 0.8895 - val_loss: 3.2906e-04 - val_precision: 0.5132 - val_iou_score: 0.4873\n",
      "Epoch 31/100\n",
      "6962/6962 [==============================] - 19s 3ms/step - loss: 2.0602e-04 - precision: 0.9375 - iou_score: 0.8980 - val_loss: 3.3419e-04 - val_precision: 0.5153 - val_iou_score: 0.4883\n",
      "Epoch 32/100\n",
      "6962/6962 [==============================] - 19s 3ms/step - loss: 1.9225e-04 - precision: 0.9406 - iou_score: 0.9033 - val_loss: 3.1418e-04 - val_precision: 0.5144 - val_iou_score: 0.4913\n",
      "Epoch 33/100\n",
      "6962/6962 [==============================] - 18s 3ms/step - loss: 1.8337e-04 - precision: 0.9434 - iou_score: 0.9076 - val_loss: 3.0581e-04 - val_precision: 0.5163 - val_iou_score: 0.4945\n",
      "Epoch 34/100\n",
      "6962/6962 [==============================] - 18s 3ms/step - loss: 1.6943e-04 - precision: 0.9474 - iou_score: 0.9138 - val_loss: 2.7776e-04 - val_precision: 0.5206 - val_iou_score: 0.4976\n",
      "Epoch 35/100\n",
      "6962/6962 [==============================] - 18s 3ms/step - loss: 1.5700e-04 - precision: 0.9476 - iou_score: 0.9162 - val_loss: 2.9145e-04 - val_precision: 0.5209 - val_iou_score: 0.4965\n",
      "Epoch 36/100\n",
      "6962/6962 [==============================] - 18s 3ms/step - loss: 1.5285e-04 - precision: 0.9497 - iou_score: 0.9192 - val_loss: 2.9399e-04 - val_precision: 0.5205 - val_iou_score: 0.4985\n",
      "Epoch 37/100\n",
      "6962/6962 [==============================] - 18s 3ms/step - loss: 1.4328e-04 - precision: 0.9497 - iou_score: 0.9211 - val_loss: 2.8288e-04 - val_precision: 0.5208 - val_iou_score: 0.5005\n",
      "Epoch 38/100\n",
      "6962/6962 [==============================] - 18s 3ms/step - loss: 1.3378e-04 - precision: 0.9555 - iou_score: 0.9283 - val_loss: 2.5552e-04 - val_precision: 0.5227 - val_iou_score: 0.5034\n",
      "Epoch 39/100\n",
      "6962/6962 [==============================] - 18s 3ms/step - loss: 1.2587e-04 - precision: 0.9565 - iou_score: 0.9308 - val_loss: 2.4474e-04 - val_precision: 0.5265 - val_iou_score: 0.5064\n",
      "Epoch 40/100\n",
      "6962/6962 [==============================] - 19s 3ms/step - loss: 1.2032e-04 - precision: 0.9583 - iou_score: 0.9335 - val_loss: 2.4226e-04 - val_precision: 0.5264 - val_iou_score: 0.5072\n",
      "Epoch 41/100\n",
      "6962/6962 [==============================] - 19s 3ms/step - loss: 1.1391e-04 - precision: 0.9601 - iou_score: 0.9363 - val_loss: 2.3198e-04 - val_precision: 0.5267 - val_iou_score: 0.5100\n",
      "Epoch 42/100\n",
      "6962/6962 [==============================] - 19s 3ms/step - loss: 1.1071e-04 - precision: 0.9595 - iou_score: 0.9365 - val_loss: 2.4084e-04 - val_precision: 0.5252 - val_iou_score: 0.5072\n",
      "Epoch 43/100\n",
      "6962/6962 [==============================] - 18s 3ms/step - loss: 1.0262e-04 - precision: 0.9649 - iou_score: 0.9433 - val_loss: 2.2372e-04 - val_precision: 0.5282 - val_iou_score: 0.5109\n",
      "Epoch 44/100\n",
      "6962/6962 [==============================] - 19s 3ms/step - loss: 9.7095e-05 - precision: 0.9643 - iou_score: 0.9439 - val_loss: 2.2608e-04 - val_precision: 0.5297 - val_iou_score: 0.5131\n",
      "Epoch 45/100\n",
      "6962/6962 [==============================] - 18s 3ms/step - loss: 9.1040e-05 - precision: 0.9649 - iou_score: 0.9455 - val_loss: 2.2989e-04 - val_precision: 0.5290 - val_iou_score: 0.5135\n",
      "Epoch 46/100\n",
      "6962/6962 [==============================] - 18s 3ms/step - loss: 8.8672e-05 - precision: 0.9663 - iou_score: 0.9475 - val_loss: 2.4001e-04 - val_precision: 0.5282 - val_iou_score: 0.5123\n",
      "Epoch 47/100\n",
      "6962/6962 [==============================] - 19s 3ms/step - loss: 8.5235e-05 - precision: 0.9679 - iou_score: 0.9494 - val_loss: 2.2721e-04 - val_precision: 0.5293 - val_iou_score: 0.5133\n",
      "Epoch 48/100\n",
      "6962/6962 [==============================] - 19s 3ms/step - loss: 8.0020e-05 - precision: 0.9682 - iou_score: 0.9509 - val_loss: 2.1044e-04 - val_precision: 0.5334 - val_iou_score: 0.5177\n",
      "Epoch 49/100\n",
      "6962/6962 [==============================] - 18s 3ms/step - loss: 9.6048e-05 - precision: 0.9654 - iou_score: 0.9464 - val_loss: 3.7124e-04 - val_precision: 0.5231 - val_iou_score: 0.5017\n",
      "Epoch 50/100\n",
      "6962/6962 [==============================] - 18s 3ms/step - loss: 8.6021e-05 - precision: 0.9682 - iou_score: 0.9501 - val_loss: 1.9610e-04 - val_precision: 0.5338 - val_iou_score: 0.5187\n",
      "Epoch 51/100\n",
      "6962/6962 [==============================] - 18s 3ms/step - loss: 7.4824e-05 - precision: 0.9694 - iou_score: 0.9531 - val_loss: 2.2595e-04 - val_precision: 0.5292 - val_iou_score: 0.5148\n",
      "Epoch 52/100\n",
      "6962/6962 [==============================] - 18s 3ms/step - loss: 6.9160e-05 - precision: 0.9702 - iou_score: 0.9550 - val_loss: 1.9471e-04 - val_precision: 0.5348 - val_iou_score: 0.5206\n",
      "Epoch 53/100\n",
      "6962/6962 [==============================] - 18s 3ms/step - loss: 6.6802e-05 - precision: 0.9723 - iou_score: 0.9577 - val_loss: 1.9940e-04 - val_precision: 0.5356 - val_iou_score: 0.5204\n",
      "Epoch 54/100\n",
      "6962/6962 [==============================] - 19s 3ms/step - loss: 6.4951e-05 - precision: 0.9718 - iou_score: 0.9574 - val_loss: 2.0273e-04 - val_precision: 0.5342 - val_iou_score: 0.5203\n",
      "Epoch 55/100\n",
      "6962/6962 [==============================] - 18s 3ms/step - loss: 6.3079e-05 - precision: 0.9726 - iou_score: 0.9586 - val_loss: 2.0471e-04 - val_precision: 0.5365 - val_iou_score: 0.5208\n",
      "Epoch 56/100\n",
      "6962/6962 [==============================] - 19s 3ms/step - loss: 6.1238e-05 - precision: 0.9728 - iou_score: 0.9591 - val_loss: 2.1465e-04 - val_precision: 0.5342 - val_iou_score: 0.5192\n",
      "Epoch 57/100\n",
      "6962/6962 [==============================] - 18s 3ms/step - loss: 5.7919e-05 - precision: 0.9745 - iou_score: 0.9616 - val_loss: 1.9875e-04 - val_precision: 0.5356 - val_iou_score: 0.5219\n",
      "Epoch 58/100\n",
      "6962/6962 [==============================] - 18s 3ms/step - loss: 5.6567e-05 - precision: 0.9753 - iou_score: 0.9626 - val_loss: 2.0841e-04 - val_precision: 0.5360 - val_iou_score: 0.5219\n",
      "Epoch 59/100\n",
      "6962/6962 [==============================] - 19s 3ms/step - loss: 5.3857e-05 - precision: 0.9757 - iou_score: 0.9636 - val_loss: 2.0140e-04 - val_precision: 0.5359 - val_iou_score: 0.5229\n",
      "Epoch 60/100\n",
      "6962/6962 [==============================] - 19s 3ms/step - loss: 5.3284e-05 - precision: 0.9752 - iou_score: 0.9632 - val_loss: 1.8881e-04 - val_precision: 0.5374 - val_iou_score: 0.5249\n",
      "Epoch 61/100\n",
      "6962/6962 [==============================] - 18s 3ms/step - loss: 5.1504e-05 - precision: 0.9763 - iou_score: 0.9648 - val_loss: 1.8980e-04 - val_precision: 0.5383 - val_iou_score: 0.5260\n",
      "Epoch 62/100\n",
      "6962/6962 [==============================] - 18s 3ms/step - loss: 4.9713e-05 - precision: 0.9757 - iou_score: 0.9645 - val_loss: 1.9301e-04 - val_precision: 0.5381 - val_iou_score: 0.5262\n",
      "Epoch 63/100\n",
      "6962/6962 [==============================] - 19s 3ms/step - loss: 4.7436e-05 - precision: 0.9767 - iou_score: 0.9659 - val_loss: 1.9199e-04 - val_precision: 0.5382 - val_iou_score: 0.5246\n",
      "Epoch 64/100\n",
      "6962/6962 [==============================] - 18s 3ms/step - loss: 4.5942e-05 - precision: 0.9759 - iou_score: 0.9653 - val_loss: 1.9356e-04 - val_precision: 0.5379 - val_iou_score: 0.5256\n",
      "Epoch 65/100\n",
      "6962/6962 [==============================] - 18s 3ms/step - loss: 4.5318e-05 - precision: 0.9757 - iou_score: 0.9653 - val_loss: 1.8236e-04 - val_precision: 0.5398 - val_iou_score: 0.5263\n",
      "Epoch 66/100\n",
      "6962/6962 [==============================] - 19s 3ms/step - loss: 4.3130e-05 - precision: 0.9781 - iou_score: 0.9682 - val_loss: 1.8539e-04 - val_precision: 0.5409 - val_iou_score: 0.5278\n",
      "Epoch 67/100\n",
      "6962/6962 [==============================] - 18s 3ms/step - loss: 4.1774e-05 - precision: 0.9761 - iou_score: 0.9664 - val_loss: 1.9210e-04 - val_precision: 0.5390 - val_iou_score: 0.5263\n",
      "Epoch 68/100\n",
      "6962/6962 [==============================] - 19s 3ms/step - loss: 4.0808e-05 - precision: 0.9755 - iou_score: 0.9660 - val_loss: 1.9486e-04 - val_precision: 0.5392 - val_iou_score: 0.5269\n",
      "Epoch 69/100\n",
      "6962/6962 [==============================] - 18s 3ms/step - loss: 4.0101e-05 - precision: 0.9776 - iou_score: 0.9683 - val_loss: 1.8190e-04 - val_precision: 0.5407 - val_iou_score: 0.5289\n",
      "Epoch 70/100\n",
      "6962/6962 [==============================] - 19s 3ms/step - loss: 4.0238e-05 - precision: 0.9803 - iou_score: 0.9711 - val_loss: 1.9177e-04 - val_precision: 0.5410 - val_iou_score: 0.5273\n",
      "Epoch 71/100\n",
      "6962/6962 [==============================] - 18s 3ms/step - loss: 3.7569e-05 - precision: 0.9773 - iou_score: 0.9686 - val_loss: 1.8423e-04 - val_precision: 0.5409 - val_iou_score: 0.5286\n",
      "Epoch 72/100\n",
      "6962/6962 [==============================] - 19s 3ms/step - loss: 3.6287e-05 - precision: 0.9800 - iou_score: 0.9716 - val_loss: 1.7724e-04 - val_precision: 0.5422 - val_iou_score: 0.5302\n",
      "Epoch 73/100\n",
      "6962/6962 [==============================] - 18s 3ms/step - loss: 3.6970e-05 - precision: 0.9799 - iou_score: 0.9712 - val_loss: 1.9948e-04 - val_precision: 0.5383 - val_iou_score: 0.5267\n",
      "Epoch 74/100\n",
      "6962/6962 [==============================] - 18s 3ms/step - loss: 3.5845e-05 - precision: 0.9793 - iou_score: 0.9710 - val_loss: 1.9206e-04 - val_precision: 0.5408 - val_iou_score: 0.5283\n",
      "Epoch 75/100\n",
      "6962/6962 [==============================] - 19s 3ms/step - loss: 3.4381e-05 - precision: 0.9798 - iou_score: 0.9717 - val_loss: 1.8804e-04 - val_precision: 0.5407 - val_iou_score: 0.5293\n",
      "Epoch 76/100\n",
      "6962/6962 [==============================] - 18s 3ms/step - loss: 3.4087e-05 - precision: 0.9807 - iou_score: 0.9727 - val_loss: 1.8403e-04 - val_precision: 0.5425 - val_iou_score: 0.5308\n",
      "Epoch 77/100\n",
      "6962/6962 [==============================] - 19s 3ms/step - loss: 3.4306e-05 - precision: 0.9809 - iou_score: 0.9729 - val_loss: 1.9904e-04 - val_precision: 0.5427 - val_iou_score: 0.5298\n",
      "Epoch 78/100\n",
      "6962/6962 [==============================] - 19s 3ms/step - loss: 3.2495e-05 - precision: 0.9798 - iou_score: 0.9722 - val_loss: 1.9268e-04 - val_precision: 0.5424 - val_iou_score: 0.5301\n",
      "Epoch 79/100\n",
      "6962/6962 [==============================] - 19s 3ms/step - loss: 3.1784e-05 - precision: 0.9811 - iou_score: 0.9736 - val_loss: 1.8233e-04 - val_precision: 0.5425 - val_iou_score: 0.5312\n",
      "Epoch 80/100\n",
      "6962/6962 [==============================] - 18s 3ms/step - loss: 3.0581e-05 - precision: 0.9788 - iou_score: 0.9716 - val_loss: 1.9465e-04 - val_precision: 0.5387 - val_iou_score: 0.5268\n",
      "Epoch 81/100\n",
      "6962/6962 [==============================] - 19s 3ms/step - loss: 2.9251e-05 - precision: 0.9812 - iou_score: 0.9742 - val_loss: 1.8284e-04 - val_precision: 0.5440 - val_iou_score: 0.5323\n",
      "Epoch 82/100\n",
      "6962/6962 [==============================] - 18s 3ms/step - loss: 2.9677e-05 - precision: 0.9793 - iou_score: 0.9723 - val_loss: 1.7340e-04 - val_precision: 0.5435 - val_iou_score: 0.5324\n",
      "Epoch 83/100\n",
      "6962/6962 [==============================] - 18s 3ms/step - loss: 2.8617e-05 - precision: 0.9811 - iou_score: 0.9743 - val_loss: 1.8148e-04 - val_precision: 0.5426 - val_iou_score: 0.5322\n",
      "Epoch 84/100\n",
      "6962/6962 [==============================] - 18s 3ms/step - loss: 2.7716e-05 - precision: 0.9816 - iou_score: 0.9749 - val_loss: 1.7952e-04 - val_precision: 0.5438 - val_iou_score: 0.5331\n",
      "Epoch 85/100\n",
      "6962/6962 [==============================] - 19s 3ms/step - loss: 2.7217e-05 - precision: 0.9826 - iou_score: 0.9761 - val_loss: 1.7728e-04 - val_precision: 0.5439 - val_iou_score: 0.5331\n",
      "Epoch 86/100\n",
      "6962/6962 [==============================] - 19s 3ms/step - loss: 2.6366e-05 - precision: 0.9817 - iou_score: 0.9753 - val_loss: 1.8414e-04 - val_precision: 0.5446 - val_iou_score: 0.5324\n",
      "Epoch 87/100\n",
      "6962/6962 [==============================] - 19s 3ms/step - loss: 2.6170e-05 - precision: 0.9825 - iou_score: 0.9763 - val_loss: 1.7680e-04 - val_precision: 0.5438 - val_iou_score: 0.5334\n",
      "Epoch 88/100\n",
      "6962/6962 [==============================] - 19s 3ms/step - loss: 2.5100e-05 - precision: 0.9813 - iou_score: 0.9753 - val_loss: 1.7571e-04 - val_precision: 0.5433 - val_iou_score: 0.5332\n",
      "Epoch 89/100\n",
      "6962/6962 [==============================] - 18s 3ms/step - loss: 2.5572e-05 - precision: 0.9825 - iou_score: 0.9763 - val_loss: 1.8272e-04 - val_precision: 0.5451 - val_iou_score: 0.5338\n",
      "Epoch 90/100\n",
      "6962/6962 [==============================] - 18s 3ms/step - loss: 2.4551e-05 - precision: 0.9832 - iou_score: 0.9772 - val_loss: 1.8025e-04 - val_precision: 0.5453 - val_iou_score: 0.5338\n",
      "Epoch 91/100\n",
      "6962/6962 [==============================] - 18s 3ms/step - loss: 2.4779e-05 - precision: 0.9815 - iou_score: 0.9756 - val_loss: 1.8908e-04 - val_precision: 0.5443 - val_iou_score: 0.5332\n",
      "Epoch 92/100\n",
      "6962/6962 [==============================] - 18s 3ms/step - loss: 2.4183e-05 - precision: 0.9842 - iou_score: 0.9783 - val_loss: 1.8132e-04 - val_precision: 0.5445 - val_iou_score: 0.5336\n",
      "Epoch 93/100\n",
      "6962/6962 [==============================] - 19s 3ms/step - loss: 2.2868e-05 - precision: 0.9822 - iou_score: 0.9767 - val_loss: 1.7774e-04 - val_precision: 0.5451 - val_iou_score: 0.5352\n",
      "Epoch 94/100\n",
      "6962/6962 [==============================] - 19s 3ms/step - loss: 2.2480e-05 - precision: 0.9836 - iou_score: 0.9781 - val_loss: 1.8054e-04 - val_precision: 0.5454 - val_iou_score: 0.5351\n",
      "Epoch 95/100\n",
      "6962/6962 [==============================] - 18s 3ms/step - loss: 2.2262e-05 - precision: 0.9817 - iou_score: 0.9763 - val_loss: 1.7530e-04 - val_precision: 0.5449 - val_iou_score: 0.5355\n",
      "Epoch 96/100\n",
      "6962/6962 [==============================] - 19s 3ms/step - loss: 2.2935e-05 - precision: 0.9817 - iou_score: 0.9762 - val_loss: 1.8700e-04 - val_precision: 0.5440 - val_iou_score: 0.5333\n",
      "Epoch 97/100\n",
      "6962/6962 [==============================] - 18s 3ms/step - loss: 2.1373e-05 - precision: 0.9822 - iou_score: 0.9770 - val_loss: 1.8058e-04 - val_precision: 0.5460 - val_iou_score: 0.5360\n",
      "Epoch 98/100\n",
      "6962/6962 [==============================] - 18s 3ms/step - loss: 2.0948e-05 - precision: 0.9815 - iou_score: 0.9763 - val_loss: 1.7730e-04 - val_precision: 0.5454 - val_iou_score: 0.5358\n",
      "Epoch 99/100\n",
      "6962/6962 [==============================] - 19s 3ms/step - loss: 2.0717e-05 - precision: 0.9836 - iou_score: 0.9786 - val_loss: 1.8813e-04 - val_precision: 0.5438 - val_iou_score: 0.5334\n",
      "Epoch 100/100\n",
      "6962/6962 [==============================] - 18s 3ms/step - loss: 2.0772e-05 - precision: 0.9833 - iou_score: 0.9782 - val_loss: 1.9073e-04 - val_precision: 0.5441 - val_iou_score: 0.5341\n"
     ]
    },
    {
     "data": {
      "text/plain": [
       "<keras.callbacks.callbacks.History at 0x7f28bc6a9d30>"
      ]
     },
     "execution_count": 45,
     "metadata": {},
     "output_type": "execute_result"
    }
   ],
   "source": [
    "\n",
    "\n",
    "# load your data\n",
    "\n",
    "# preprocess input\n",
    "\n",
    "\n",
    "# define model\n",
    "model = Unet(BACKBONE, encoder_weights='imagenet',activation=\"softmax\",classes=27)\n",
    "model.compile(optimizer=opt, loss=categorical_crossentropy, metrics=[precision,iou_score])\n",
    "\n",
    "# fit model\n",
    "model.fit(\n",
    "    x=x_train,\n",
    "    y=y_train,\n",
    "    batch_size=32,\n",
    "    epochs=100,\n",
    "    validation_data=(x_val, y_val),\n",
    ")"
   ]
  },
  {
   "cell_type": "code",
   "execution_count": 46,
   "metadata": {},
   "outputs": [],
   "source": [
    "history=model.history.history"
   ]
  },
  {
   "cell_type": "code",
   "execution_count": 47,
   "metadata": {},
   "outputs": [
    {
     "data": {
      "text/plain": [
       "0.9681589"
      ]
     },
     "execution_count": 47,
     "metadata": {},
     "output_type": "execute_result"
    }
   ],
   "source": [
    "history['precision'][49]"
   ]
  },
  {
   "cell_type": "code",
   "execution_count": 48,
   "metadata": {},
   "outputs": [
    {
     "data": {
      "text/plain": [
       "0.5337522029876709"
      ]
     },
     "execution_count": 48,
     "metadata": {},
     "output_type": "execute_result"
    }
   ],
   "source": [
    "history['val_precision'][49]"
   ]
  },
  {
   "cell_type": "code",
   "execution_count": 49,
   "metadata": {},
   "outputs": [
    {
     "data": {
      "text/plain": [
       "0.9500575"
      ]
     },
     "execution_count": 49,
     "metadata": {},
     "output_type": "execute_result"
    }
   ],
   "source": [
    "history['iou_score'][49]"
   ]
  },
  {
   "cell_type": "code",
   "execution_count": 50,
   "metadata": {},
   "outputs": [
    {
     "data": {
      "text/plain": [
       "0.5187381505966187"
      ]
     },
     "execution_count": 50,
     "metadata": {},
     "output_type": "execute_result"
    }
   ],
   "source": [
    "history['val_iou_score'][49]"
   ]
  },
  {
   "cell_type": "code",
   "execution_count": 51,
   "metadata": {},
   "outputs": [
    {
     "data": {
      "image/png": "[encoded data removed]",
      "text/plain": [
       "<Figure size 432x288 with 1 Axes>"
      ]
     },
     "metadata": {
      "needs_background": "light"
     },
     "output_type": "display_data"
    }
   ],
   "source": [
    "# summarize history for accuracy\n",
    "plt.plot(history['precision'])\n",
    "plt.plot(history['val_precision'])\n",
    "plt.title('model accuracy')\n",
    "plt.ylabel('accuracy')\n",
    "plt.xlabel('epoch')\n",
    "plt.legend(['train', 'validation'], loc='upper left')\n",
    "plt.show()"
   ]
  },
  {
   "cell_type": "code",
   "execution_count": 52,
   "metadata": {},
   "outputs": [
    {
     "data": {
      "image/png": "[encoded data removed]",
      "text/plain": [
       "<Figure size 432x288 with 1 Axes>"
      ]
     },
     "metadata": {
      "needs_background": "light"
     },
     "output_type": "display_data"
    }
   ],
   "source": [
    "# summarize history for loss\n",
    "plt.plot(history['loss'])\n",
    "plt.plot(history['val_loss'])\n",
    "plt.title('model loss')\n",
    "plt.ylabel('loss')\n",
    "plt.xlabel('epoch')\n",
    "plt.legend(['train', 'validation'], loc='upper left')\n",
    "plt.show()"
   ]
  },
  {
   "cell_type": "code",
   "execution_count": 53,
   "metadata": {
    "scrolled": true
   },
   "outputs": [
    {
     "data": {
      "image/png": "[encoded data removed]",
      "text/plain": [
       "<Figure size 432x288 with 1 Axes>"
      ]
     },
     "metadata": {
      "needs_background": "light"
     },
     "output_type": "display_data"
    }
   ],
   "source": [
    "# summarize history for IoU\n",
    "plt.plot(history['iou_score'])\n",
    "plt.plot(history['val_iou_score'])\n",
    "plt.title('model IOU score')\n",
    "plt.ylabel('IOU score')\n",
    "plt.xlabel('epoch')\n",
    "plt.legend(['train', 'validation'], loc='upper left')\n",
    "plt.show()"
   ]
  },
  {
   "cell_type": "markdown",
   "metadata": {},
   "source": [
    "## Training on the synthetic dataset with augmentation "
   ]
  },
  {
   "cell_type": "markdown",
   "metadata": {},
   "source": [
    "# Model 1 trained on 50 000 images¶\n"
   ]
  },
  {
   "cell_type": "code",
   "execution_count": null,
   "metadata": {},
   "outputs": [],
   "source": [
    "\n",
    "\n",
    "# load your data\n",
    "\n",
    "# preprocess input\n",
    "\n",
    "\n",
    "# define model\n",
    "model = Unet(BACKBONE, encoder_weights='imagenet',activation=\"softmax\",classes=27)\n",
    "model.compile(optimizer=opt, loss=categorical_crossentropy, metrics=[precision,iou_score])\n",
    "\n",
    "# fit model\n",
    "model.fit(\n",
    "    x=x_train,\n",
    "    y=y_train,\n",
    "    batch_size=32,\n",
    "    epochs=100,\n",
    "    validation_data=(x_val, y_val),\n",
    ")"
   ]
  },
  {
   "cell_type": "code",
   "execution_count": 165,
   "metadata": {
    "scrolled": false
   },
   "outputs": [],
   "source": [
    "history1=model1.history.history"
   ]
  },
  {
   "cell_type": "code",
   "execution_count": 166,
   "metadata": {
    "scrolled": true
   },
   "outputs": [
    {
     "data": {
      "text/plain": [
       "dict_keys(['loss', 'precision', 'iou_score', 'val_loss', 'val_precision', 'val_iou_score'])"
      ]
     },
     "execution_count": 166,
     "metadata": {},
     "output_type": "execute_result"
    }
   ],
   "source": [
    "history1.keys()"
   ]
  },
  {
   "cell_type": "code",
   "execution_count": 167,
   "metadata": {
    "scrolled": true
   },
   "outputs": [
    {
     "data": {
      "text/plain": [
       "0.94563645"
      ]
     },
     "execution_count": 167,
     "metadata": {},
     "output_type": "execute_result"
    }
   ],
   "source": [
    "history1['precision'][49]"
   ]
  },
  {
   "cell_type": "code",
   "execution_count": 168,
   "metadata": {},
   "outputs": [
    {
     "data": {
      "text/plain": [
       "0.50142586"
      ]
     },
     "execution_count": 168,
     "metadata": {},
     "output_type": "execute_result"
    }
   ],
   "source": [
    "history1['val_precision'][49]"
   ]
  },
  {
   "cell_type": "code",
   "execution_count": 169,
   "metadata": {},
   "outputs": [
    {
     "data": {
      "text/plain": [
       "0.9403951"
      ]
     },
     "execution_count": 169,
     "metadata": {},
     "output_type": "execute_result"
    }
   ],
   "source": [
    "history1['iou_score'][49]"
   ]
  },
  {
   "cell_type": "code",
   "execution_count": 170,
   "metadata": {},
   "outputs": [
    {
     "data": {
      "text/plain": [
       "0.46593165"
      ]
     },
     "execution_count": 170,
     "metadata": {},
     "output_type": "execute_result"
    }
   ],
   "source": [
    "history1['val_iou_score'][49]"
   ]
  },
  {
   "cell_type": "code",
   "execution_count": 171,
   "metadata": {},
   "outputs": [],
   "source": [
    "from matplotlib import pyplot as plt"
   ]
  },
  {
   "cell_type": "code",
   "execution_count": 172,
   "metadata": {},
   "outputs": [
    {
     "data": {
      "image/png": "[encoded data removed]",
      "text/plain": [
       "<Figure size 432x288 with 1 Axes>"
      ]
     },
     "metadata": {
      "needs_background": "light"
     },
     "output_type": "display_data"
    }
   ],
   "source": [
    "# summarize history for accuracy\n",
    "plt.plot(history1['precision'])\n",
    "plt.plot(history1['val_precision'])\n",
    "plt.title('model accuracy')\n",
    "plt.ylabel('accuracy')\n",
    "plt.xlabel('epoch')\n",
    "plt.legend(['train', 'validation'], loc='upper left')\n",
    "plt.show()"
   ]
  },
  {
   "cell_type": "code",
   "execution_count": 173,
   "metadata": {
    "scrolled": true
   },
   "outputs": [
    {
     "data": {
      "image/png": "[encoded data removed]",
      "text/plain": [
       "<Figure size 432x288 with 1 Axes>"
      ]
     },
     "metadata": {
      "needs_background": "light"
     },
     "output_type": "display_data"
    }
   ],
   "source": [
    "# summarize history for loss\n",
    "plt.plot(history1['loss'])\n",
    "plt.plot(history1['val_loss'])\n",
    "plt.title('model loss')\n",
    "plt.ylabel('loss')\n",
    "plt.xlabel('epoch')\n",
    "plt.legend(['train', 'validation'], loc='upper left')\n",
    "plt.show()"
   ]
  },
  {
   "cell_type": "code",
   "execution_count": 174,
   "metadata": {},
   "outputs": [
    {
     "data": {
      "image/png": "[encoded data removed]",
      "text/plain": [
       "<Figure size 432x288 with 1 Axes>"
      ]
     },
     "metadata": {
      "needs_background": "light"
     },
     "output_type": "display_data"
    }
   ],
   "source": [
    "# summarize history for Iou\n",
    "plt.plot(history1['iou_score'])\n",
    "plt.plot(history1['val_iou_score'])\n",
    "plt.title('model IOU score')\n",
    "plt.ylabel('IOU score')\n",
    "plt.xlabel('epoch')\n",
    "plt.legend(['train', 'validation'], loc='upper left')\n",
    "plt.show()"
   ]
  },
  {
   "cell_type": "markdown",
   "metadata": {},
   "source": [
    "# Model 2 trained on 60 000 images¶\n"
   ]
  },
  {
   "cell_type": "code",
   "execution_count": 185,
   "metadata": {},
   "outputs": [
    {
     "name": "stdout",
     "output_type": "stream",
     "text": [
      "Train on 60000 samples, validate on 25000 samples\n",
      "Epoch 1/50\n",
      "60000/60000 [==============================] - 82s 1ms/sample - loss: 0.0098 - precision: 0.1962 - iou_score: 0.1353 - val_loss: 0.0059 - val_precision: 0.2525 - val_iou_score: 0.1710\n",
      "Epoch 2/50\n",
      "60000/60000 [==============================] - 77s 1ms/sample - loss: 0.0034 - precision: 0.5245 - iou_score: 0.4053 - val_loss: 0.0036 - val_precision: 0.4216 - val_iou_score: 0.3244\n",
      "Epoch 3/50\n",
      "60000/60000 [==============================] - 77s 1ms/sample - loss: 0.0018 - precision: 0.6966 - iou_score: 0.5815 - val_loss: 0.0027 - val_precision: 0.5121 - val_iou_score: 0.4153\n",
      "Epoch 4/50\n",
      "60000/60000 [==============================] - 76s 1ms/sample - loss: 0.0012 - precision: 0.7700 - iou_score: 0.6703 - val_loss: 0.0022 - val_precision: 0.5609 - val_iou_score: 0.4696\n",
      "Epoch 5/50\n",
      "60000/60000 [==============================] - 77s 1ms/sample - loss: 9.1347e-04 - precision: 0.8143 - iou_score: 0.7304 - val_loss: 0.0025 - val_precision: 0.6079 - val_iou_score: 0.5013\n",
      "Epoch 6/50\n",
      "60000/60000 [==============================] - 77s 1ms/sample - loss: 7.0821e-04 - precision: 0.8428 - iou_score: 0.7710 - val_loss: 0.0021 - val_precision: 0.6285 - val_iou_score: 0.5350\n",
      "Epoch 7/50\n",
      "60000/60000 [==============================] - 76s 1ms/sample - loss: 5.6906e-04 - precision: 0.8626 - iou_score: 0.8008 - val_loss: 0.0019 - val_precision: 0.6437 - val_iou_score: 0.5576\n",
      "Epoch 8/50\n",
      "60000/60000 [==============================] - 77s 1ms/sample - loss: 4.6075e-04 - precision: 0.8784 - iou_score: 0.8248 - val_loss: 0.0020 - val_precision: 0.6646 - val_iou_score: 0.5771\n",
      "Epoch 9/50\n",
      "60000/60000 [==============================] - 77s 1ms/sample - loss: 3.9377e-04 - precision: 0.8894 - iou_score: 0.8418 - val_loss: 0.0018 - val_precision: 0.6789 - val_iou_score: 0.5976\n",
      "Epoch 10/50\n",
      "60000/60000 [==============================] - 76s 1ms/sample - loss: 3.3789e-04 - precision: 0.8982 - iou_score: 0.8558 - val_loss: 0.0018 - val_precision: 0.6874 - val_iou_score: 0.6096\n",
      "Epoch 11/50\n",
      "60000/60000 [==============================] - 77s 1ms/sample - loss: 2.8259e-04 - precision: 0.9058 - iou_score: 0.8686 - val_loss: 0.0018 - val_precision: 0.6917 - val_iou_score: 0.6160\n",
      "Epoch 12/50\n",
      "60000/60000 [==============================] - 77s 1ms/sample - loss: 2.4776e-04 - precision: 0.9112 - iou_score: 0.8775 - val_loss: 0.0017 - val_precision: 0.6984 - val_iou_score: 0.6304\n",
      "Epoch 13/50\n",
      "60000/60000 [==============================] - 76s 1ms/sample - loss: 2.3075e-04 - precision: 0.9159 - iou_score: 0.8845 - val_loss: 0.0017 - val_precision: 0.6975 - val_iou_score: 0.6258\n",
      "Epoch 14/50\n",
      "60000/60000 [==============================] - 77s 1ms/sample - loss: 1.9923e-04 - precision: 0.9198 - iou_score: 0.8918 - val_loss: 0.0018 - val_precision: 0.7144 - val_iou_score: 0.6409\n",
      "Epoch 15/50\n",
      "60000/60000 [==============================] - 77s 1ms/sample - loss: 1.8332e-04 - precision: 0.9232 - iou_score: 0.8970 - val_loss: 0.0020 - val_precision: 0.7089 - val_iou_score: 0.6381\n",
      "Epoch 16/50\n",
      "60000/60000 [==============================] - 77s 1ms/sample - loss: 1.6382e-04 - precision: 0.9266 - iou_score: 0.9028 - val_loss: 0.0017 - val_precision: 0.7202 - val_iou_score: 0.6496\n",
      "Epoch 17/50\n",
      "60000/60000 [==============================] - 77s 1ms/sample - loss: 1.5740e-04 - precision: 0.9284 - iou_score: 0.9054 - val_loss: 0.0017 - val_precision: 0.7222 - val_iou_score: 0.6576\n",
      "Epoch 18/50\n",
      "60000/60000 [==============================] - 76s 1ms/sample - loss: 1.5339e-04 - precision: 0.9292 - iou_score: 0.9073 - val_loss: 0.0018 - val_precision: 0.7093 - val_iou_score: 0.6394\n",
      "Epoch 19/50\n",
      "60000/60000 [==============================] - 77s 1ms/sample - loss: 1.6677e-04 - precision: 0.9286 - iou_score: 0.9056 - val_loss: 0.0018 - val_precision: 0.7185 - val_iou_score: 0.6514\n",
      "Epoch 20/50\n",
      "60000/60000 [==============================] - 77s 1ms/sample - loss: 1.2983e-04 - precision: 0.9323 - iou_score: 0.9131 - val_loss: 0.0020 - val_precision: 0.7241 - val_iou_score: 0.6579\n",
      "Epoch 21/50\n",
      "60000/60000 [==============================] - 77s 1ms/sample - loss: 1.0629e-04 - precision: 0.9373 - iou_score: 0.9208 - val_loss: 0.0018 - val_precision: 0.7332 - val_iou_score: 0.6699\n",
      "Epoch 22/50\n",
      "60000/60000 [==============================] - 77s 1ms/sample - loss: 9.2353e-05 - precision: 0.9388 - iou_score: 0.9243 - val_loss: 0.0019 - val_precision: 0.7349 - val_iou_score: 0.6732\n",
      "Epoch 23/50\n",
      "60000/60000 [==============================] - 77s 1ms/sample - loss: 8.0784e-05 - precision: 0.9410 - iou_score: 0.9282 - val_loss: 0.0019 - val_precision: 0.7354 - val_iou_score: 0.6769\n",
      "Epoch 24/50\n",
      "60000/60000 [==============================] - 77s 1ms/sample - loss: 9.2797e-05 - precision: 0.9411 - iou_score: 0.9273 - val_loss: 0.0020 - val_precision: 0.7239 - val_iou_score: 0.6604\n",
      "Epoch 25/50\n",
      "60000/60000 [==============================] - 77s 1ms/sample - loss: 1.0619e-04 - precision: 0.9391 - iou_score: 0.9242 - val_loss: 0.0019 - val_precision: 0.7289 - val_iou_score: 0.6659\n",
      "Epoch 26/50\n",
      "60000/60000 [==============================] - 77s 1ms/sample - loss: 9.9042e-05 - precision: 0.9401 - iou_score: 0.9258 - val_loss: 0.0020 - val_precision: 0.7395 - val_iou_score: 0.6693\n",
      "Epoch 27/50\n",
      "60000/60000 [==============================] - 77s 1ms/sample - loss: 1.0709e-04 - precision: 0.9393 - iou_score: 0.9242 - val_loss: 0.0020 - val_precision: 0.7289 - val_iou_score: 0.6686\n",
      "Epoch 28/50\n",
      "60000/60000 [==============================] - 77s 1ms/sample - loss: 1.0349e-04 - precision: 0.9404 - iou_score: 0.9259 - val_loss: 0.0019 - val_precision: 0.7359 - val_iou_score: 0.6717\n",
      "Epoch 29/50\n",
      "60000/60000 [==============================] - 77s 1ms/sample - loss: 8.8491e-05 - precision: 0.9417 - iou_score: 0.9288 - val_loss: 0.0019 - val_precision: 0.7362 - val_iou_score: 0.6762\n",
      "Epoch 30/50\n",
      "60000/60000 [==============================] - 77s 1ms/sample - loss: 7.8899e-05 - precision: 0.9436 - iou_score: 0.9318 - val_loss: 0.0020 - val_precision: 0.7428 - val_iou_score: 0.6862\n",
      "Epoch 31/50\n",
      "60000/60000 [==============================] - 77s 1ms/sample - loss: 6.9901e-05 - precision: 0.9451 - iou_score: 0.9348 - val_loss: 0.0021 - val_precision: 0.7255 - val_iou_score: 0.6671\n",
      "Epoch 32/50\n",
      "60000/60000 [==============================] - 77s 1ms/sample - loss: 9.2327e-05 - precision: 0.9424 - iou_score: 0.9296 - val_loss: 0.0021 - val_precision: 0.7396 - val_iou_score: 0.6800\n",
      "Epoch 33/50\n",
      "60000/60000 [==============================] - 77s 1ms/sample - loss: 5.9651e-05 - precision: 0.9466 - iou_score: 0.9373 - val_loss: 0.0018 - val_precision: 0.7493 - val_iou_score: 0.6931\n",
      "Epoch 34/50\n",
      "60000/60000 [==============================] - 76s 1ms/sample - loss: 5.1054e-05 - precision: 0.9482 - iou_score: 0.9402 - val_loss: 0.0020 - val_precision: 0.7491 - val_iou_score: 0.6938\n",
      "Epoch 35/50\n",
      "60000/60000 [==============================] - 77s 1ms/sample - loss: 4.6429e-05 - precision: 0.9496 - iou_score: 0.9424 - val_loss: 0.0020 - val_precision: 0.7527 - val_iou_score: 0.6976\n",
      "Epoch 36/50\n",
      "60000/60000 [==============================] - 76s 1ms/sample - loss: 4.3284e-05 - precision: 0.9490 - iou_score: 0.9422 - val_loss: 0.0020 - val_precision: 0.7518 - val_iou_score: 0.6978\n",
      "Epoch 37/50\n",
      "60000/60000 [==============================] - 77s 1ms/sample - loss: 4.1157e-05 - precision: 0.9507 - iou_score: 0.9443 - val_loss: 0.0020 - val_precision: 0.7533 - val_iou_score: 0.6995\n",
      "Epoch 38/50\n",
      "60000/60000 [==============================] - 77s 1ms/sample - loss: 3.9645e-05 - precision: 0.9501 - iou_score: 0.9440 - val_loss: 0.0021 - val_precision: 0.7504 - val_iou_score: 0.6959\n",
      "Epoch 39/50\n",
      "60000/60000 [==============================] - 77s 1ms/sample - loss: 4.0355e-05 - precision: 0.9505 - iou_score: 0.9443 - val_loss: 0.0021 - val_precision: 0.7529 - val_iou_score: 0.6986\n",
      "Epoch 40/50\n",
      "60000/60000 [==============================] - 77s 1ms/sample - loss: 3.7284e-05 - precision: 0.9513 - iou_score: 0.9455 - val_loss: 0.0020 - val_precision: 0.7538 - val_iou_score: 0.7006\n",
      "Epoch 41/50\n",
      "60000/60000 [==============================] - 77s 1ms/sample - loss: 3.5805e-05 - precision: 0.9518 - iou_score: 0.9464 - val_loss: 0.0020 - val_precision: 0.7533 - val_iou_score: 0.7011\n",
      "Epoch 42/50\n",
      "60000/60000 [==============================] - 77s 1ms/sample - loss: 3.4963e-05 - precision: 0.9516 - iou_score: 0.9462 - val_loss: 0.0021 - val_precision: 0.7558 - val_iou_score: 0.7022\n",
      "Epoch 43/50\n",
      "60000/60000 [==============================] - 77s 1ms/sample - loss: 3.3981e-05 - precision: 0.9515 - iou_score: 0.9464 - val_loss: 0.0021 - val_precision: 0.7549 - val_iou_score: 0.7018\n",
      "Epoch 44/50\n",
      "60000/60000 [==============================] - 77s 1ms/sample - loss: 3.3709e-05 - precision: 0.9525 - iou_score: 0.9474 - val_loss: 0.0021 - val_precision: 0.7545 - val_iou_score: 0.7012\n",
      "Epoch 45/50\n",
      "60000/60000 [==============================] - 77s 1ms/sample - loss: 3.9508e-05 - precision: 0.9505 - iou_score: 0.9448 - val_loss: 0.0022 - val_precision: 0.7529 - val_iou_score: 0.6934\n",
      "Epoch 46/50\n",
      "60000/60000 [==============================] - 77s 1ms/sample - loss: 6.4393e-05 - precision: 0.9475 - iou_score: 0.9390 - val_loss: 0.0024 - val_precision: 0.7451 - val_iou_score: 0.6801\n",
      "Epoch 47/50\n",
      "60000/60000 [==============================] - 77s 1ms/sample - loss: 9.0358e-05 - precision: 0.9447 - iou_score: 0.9335 - val_loss: 0.0021 - val_precision: 0.7406 - val_iou_score: 0.6799\n",
      "Epoch 48/50\n",
      "60000/60000 [==============================] - 77s 1ms/sample - loss: 8.1585e-05 - precision: 0.9457 - iou_score: 0.9353 - val_loss: 0.0021 - val_precision: 0.7447 - val_iou_score: 0.6835\n",
      "Epoch 49/50\n",
      "60000/60000 [==============================] - 76s 1ms/sample - loss: 6.4059e-05 - precision: 0.9468 - iou_score: 0.9378 - val_loss: 0.0020 - val_precision: 0.7492 - val_iou_score: 0.6885\n",
      "Epoch 50/50\n",
      "60000/60000 [==============================] - 77s 1ms/sample - loss: 5.6790e-05 - precision: 0.9485 - iou_score: 0.9403 - val_loss: 0.0019 - val_precision: 0.7473 - val_iou_score: 0.6880\n"
     ]
    },
    {
     "data": {
      "text/plain": [
       "<tensorflow.python.keras.callbacks.History at 0x7f372df190d0>"
      ]
     },
     "execution_count": 185,
     "metadata": {},
     "output_type": "execute_result"
    }
   ],
   "source": [
    "# define model\n",
    "model2 = Unet(BACKBONE, encoder_weights='imagenet',activation=\"softmax\",classes=27)\n",
    "model2.compile(optimizer=opt, loss=categorical_crossentropy, metrics=[precision,iou_score])\n",
    "\n",
    "# fit model\n",
    "model2.fit(\n",
    "    x=x_train[0:60000],\n",
    "    y=y_train[0:60000],\n",
    "    batch_size=32,\n",
    "    epochs=50,\n",
    "    validation_data=(x_val, y_val),\n",
    ")"
   ]
  },
  {
   "cell_type": "code",
   "execution_count": 190,
   "metadata": {
    "scrolled": false
   },
   "outputs": [],
   "source": [
    "history2=model2.history.history"
   ]
  },
  {
   "cell_type": "code",
   "execution_count": 191,
   "metadata": {
    "scrolled": true
   },
   "outputs": [
    {
     "data": {
      "text/plain": [
       "dict_keys(['loss', 'precision', 'iou_score', 'val_loss', 'val_precision', 'val_iou_score'])"
      ]
     },
     "execution_count": 191,
     "metadata": {},
     "output_type": "execute_result"
    }
   ],
   "source": [
    "history2.keys()"
   ]
  },
  {
   "cell_type": "code",
   "execution_count": 192,
   "metadata": {
    "scrolled": true
   },
   "outputs": [
    {
     "data": {
      "text/plain": [
       "0.9485409"
      ]
     },
     "execution_count": 192,
     "metadata": {},
     "output_type": "execute_result"
    }
   ],
   "source": [
    "history2['precision'][49]"
   ]
  },
  {
   "cell_type": "code",
   "execution_count": 193,
   "metadata": {},
   "outputs": [
    {
     "data": {
      "text/plain": [
       "0.74730504"
      ]
     },
     "execution_count": 193,
     "metadata": {},
     "output_type": "execute_result"
    }
   ],
   "source": [
    "history2['val_precision'][49]"
   ]
  },
  {
   "cell_type": "code",
   "execution_count": 194,
   "metadata": {},
   "outputs": [
    {
     "data": {
      "text/plain": [
       "0.9403441"
      ]
     },
     "execution_count": 194,
     "metadata": {},
     "output_type": "execute_result"
    }
   ],
   "source": [
    "history2['iou_score'][49]"
   ]
  },
  {
   "cell_type": "code",
   "execution_count": 195,
   "metadata": {},
   "outputs": [
    {
     "data": {
      "text/plain": [
       "0.68803114"
      ]
     },
     "execution_count": 195,
     "metadata": {},
     "output_type": "execute_result"
    }
   ],
   "source": [
    "history2['val_iou_score'][49]"
   ]
  },
  {
   "cell_type": "code",
   "execution_count": 196,
   "metadata": {},
   "outputs": [],
   "source": [
    "from matplotlib import pyplot as plt"
   ]
  },
  {
   "cell_type": "code",
   "execution_count": 197,
   "metadata": {},
   "outputs": [
    {
     "data": {
      "image/png": "[encoded data removed]",
      "text/plain": [
       "<Figure size 432x288 with 1 Axes>"
      ]
     },
     "metadata": {
      "needs_background": "light"
     },
     "output_type": "display_data"
    }
   ],
   "source": [
    "# summarize history for accuracy\n",
    "plt.plot(history2['precision'])\n",
    "plt.plot(history2['val_precision'])\n",
    "plt.title('model accuracy')\n",
    "plt.ylabel('accuracy')\n",
    "plt.xlabel('epoch')\n",
    "plt.legend(['train', 'validation'], loc='upper left')\n",
    "plt.show()"
   ]
  },
  {
   "cell_type": "code",
   "execution_count": 198,
   "metadata": {
    "scrolled": true
   },
   "outputs": [
    {
     "data": {
      "image/png": "[encoded data removed]",
      "text/plain": [
       "<Figure size 432x288 with 1 Axes>"
      ]
     },
     "metadata": {
      "needs_background": "light"
     },
     "output_type": "display_data"
    }
   ],
   "source": [
    "# summarize history for loss\n",
    "plt.plot(history2['loss'])\n",
    "plt.plot(history2['val_loss'])\n",
    "plt.title('model loss')\n",
    "plt.ylabel('loss')\n",
    "plt.xlabel('epoch')\n",
    "plt.legend(['train', 'validation'], loc='upper left')\n",
    "plt.show()"
   ]
  },
  {
   "cell_type": "code",
   "execution_count": 199,
   "metadata": {},
   "outputs": [
    {
     "data": {
      "image/png": "[encoded data removed]",
      "text/plain": [
       "<Figure size 432x288 with 1 Axes>"
      ]
     },
     "metadata": {
      "needs_background": "light"
     },
     "output_type": "display_data"
    }
   ],
   "source": [
    "# summarize history for IoU\n",
    "plt.plot(history2['iou_score'])\n",
    "plt.plot(history2['val_iou_score'])\n",
    "plt.title('model IOU score')\n",
    "plt.ylabel('IOU score')\n",
    "plt.xlabel('epoch')\n",
    "plt.legend(['train', 'validation'], loc='upper left')\n",
    "plt.show()"
   ]
  },
  {
   "cell_type": "markdown",
   "metadata": {},
   "source": [
    "# Model 3 trained on 70 000 images¶\n"
   ]
  },
  {
   "cell_type": "code",
   "execution_count": 200,
   "metadata": {},
   "outputs": [
    {
     "name": "stdout",
     "output_type": "stream",
     "text": [
      "Train on 70000 samples, validate on 25000 samples\n",
      "Epoch 1/50\n",
      "70000/70000 [==============================] - 95s 1ms/sample - loss: 0.0086 - precision: 0.2209 - iou_score: 0.1532 - val_loss: 0.0043 - val_precision: 0.3357 - val_iou_score: 0.2400\n",
      "Epoch 2/50\n",
      "70000/70000 [==============================] - 91s 1ms/sample - loss: 0.0028 - precision: 0.5723 - iou_score: 0.4481 - val_loss: 0.0024 - val_precision: 0.5077 - val_iou_score: 0.4011\n",
      "Epoch 3/50\n",
      "70000/70000 [==============================] - 91s 1ms/sample - loss: 0.0016 - precision: 0.7071 - iou_score: 0.5958 - val_loss: 0.0018 - val_precision: 0.5796 - val_iou_score: 0.4819\n",
      "Epoch 4/50\n",
      "70000/70000 [==============================] - 91s 1ms/sample - loss: 0.0011 - precision: 0.7759 - iou_score: 0.6795 - val_loss: 0.0014 - val_precision: 0.6356 - val_iou_score: 0.5440\n",
      "Epoch 5/50\n",
      "70000/70000 [==============================] - 91s 1ms/sample - loss: 8.0955e-04 - precision: 0.8162 - iou_score: 0.7337 - val_loss: 0.0013 - val_precision: 0.6526 - val_iou_score: 0.5691\n",
      "Epoch 6/50\n",
      "70000/70000 [==============================] - 91s 1ms/sample - loss: 6.3400e-04 - precision: 0.8443 - iou_score: 0.7731 - val_loss: 0.0013 - val_precision: 0.6842 - val_iou_score: 0.5955\n",
      "Epoch 7/50\n",
      "70000/70000 [==============================] - 91s 1ms/sample - loss: 5.0855e-04 - precision: 0.8633 - iou_score: 0.8017 - val_loss: 0.0011 - val_precision: 0.6957 - val_iou_score: 0.6225\n",
      "Epoch 8/50\n",
      "70000/70000 [==============================] - 91s 1ms/sample - loss: 4.2139e-04 - precision: 0.8787 - iou_score: 0.8246 - val_loss: 0.0011 - val_precision: 0.7046 - val_iou_score: 0.6322\n",
      "Epoch 9/50\n",
      "70000/70000 [==============================] - 91s 1ms/sample - loss: 3.6034e-04 - precision: 0.8887 - iou_score: 0.8402 - val_loss: 0.0011 - val_precision: 0.7187 - val_iou_score: 0.6477\n",
      "Epoch 10/50\n",
      "70000/70000 [==============================] - 91s 1ms/sample - loss: 2.9864e-04 - precision: 0.9001 - iou_score: 0.8575 - val_loss: 0.0010 - val_precision: 0.7271 - val_iou_score: 0.6631\n",
      "Epoch 11/50\n",
      "70000/70000 [==============================] - 91s 1ms/sample - loss: 2.5950e-04 - precision: 0.9068 - iou_score: 0.8688 - val_loss: 9.4097e-04 - val_precision: 0.7379 - val_iou_score: 0.6747\n",
      "Epoch 12/50\n",
      "70000/70000 [==============================] - 91s 1ms/sample - loss: 2.4556e-04 - precision: 0.9102 - iou_score: 0.8741 - val_loss: 0.0011 - val_precision: 0.7314 - val_iou_score: 0.6705\n",
      "Epoch 13/50\n",
      "70000/70000 [==============================] - 91s 1ms/sample - loss: 2.1094e-04 - precision: 0.9163 - iou_score: 0.8839 - val_loss: 9.9886e-04 - val_precision: 0.7393 - val_iou_score: 0.6794\n",
      "Epoch 14/50\n",
      "70000/70000 [==============================] - 91s 1ms/sample - loss: 1.8133e-04 - precision: 0.9222 - iou_score: 0.8933 - val_loss: 9.7592e-04 - val_precision: 0.7533 - val_iou_score: 0.6942\n",
      "Epoch 15/50\n",
      "70000/70000 [==============================] - 91s 1ms/sample - loss: 1.6001e-04 - precision: 0.9259 - iou_score: 0.8998 - val_loss: 9.3705e-04 - val_precision: 0.7515 - val_iou_score: 0.6965\n",
      "Epoch 16/50\n",
      "70000/70000 [==============================] - 91s 1ms/sample - loss: 1.4048e-04 - precision: 0.9290 - iou_score: 0.9054 - val_loss: 0.0012 - val_precision: 0.7501 - val_iou_score: 0.6910\n",
      "Epoch 17/50\n",
      "70000/70000 [==============================] - 91s 1ms/sample - loss: 1.3863e-04 - precision: 0.9307 - iou_score: 0.9077 - val_loss: 9.7601e-04 - val_precision: 0.7581 - val_iou_score: 0.7062\n",
      "Epoch 18/50\n",
      "70000/70000 [==============================] - 92s 1ms/sample - loss: 1.2809e-04 - precision: 0.9331 - iou_score: 0.9118 - val_loss: 0.0011 - val_precision: 0.7513 - val_iou_score: 0.6920\n",
      "Epoch 19/50\n",
      "70000/70000 [==============================] - 91s 1ms/sample - loss: 1.1671e-04 - precision: 0.9346 - iou_score: 0.9149 - val_loss: 0.0010 - val_precision: 0.7548 - val_iou_score: 0.7013\n",
      "Epoch 20/50\n",
      "70000/70000 [==============================] - 91s 1ms/sample - loss: 1.1959e-04 - precision: 0.9354 - iou_score: 0.9158 - val_loss: 0.0011 - val_precision: 0.7676 - val_iou_score: 0.7073\n",
      "Epoch 21/50\n",
      "70000/70000 [==============================] - 91s 1ms/sample - loss: 1.2062e-04 - precision: 0.9349 - iou_score: 0.9153 - val_loss: 9.7687e-04 - val_precision: 0.7663 - val_iou_score: 0.7110\n",
      "Epoch 22/50\n",
      "70000/70000 [==============================] - 91s 1ms/sample - loss: 9.8487e-05 - precision: 0.9391 - iou_score: 0.9224 - val_loss: 0.0011 - val_precision: 0.7723 - val_iou_score: 0.7181\n",
      "Epoch 23/50\n",
      "70000/70000 [==============================] - 91s 1ms/sample - loss: 7.8759e-05 - precision: 0.9421 - iou_score: 0.9280 - val_loss: 0.0011 - val_precision: 0.7718 - val_iou_score: 0.7213\n",
      "Epoch 24/50\n",
      "70000/70000 [==============================] - 91s 1ms/sample - loss: 7.9330e-05 - precision: 0.9431 - iou_score: 0.9294 - val_loss: 0.0011 - val_precision: 0.7694 - val_iou_score: 0.7192\n",
      "Epoch 25/50\n",
      "70000/70000 [==============================] - 91s 1ms/sample - loss: 2.0831e-04 - precision: 0.9257 - iou_score: 0.9004 - val_loss: 9.6821e-04 - val_precision: 0.7509 - val_iou_score: 0.6902\n",
      "Epoch 26/50\n",
      "70000/70000 [==============================] - 92s 1ms/sample - loss: 1.6576e-04 - precision: 0.9293 - iou_score: 0.9050 - val_loss: 0.0011 - val_precision: 0.7657 - val_iou_score: 0.7046\n",
      "Epoch 27/50\n",
      "70000/70000 [==============================] - 91s 1ms/sample - loss: 9.9156e-05 - precision: 0.9396 - iou_score: 0.9229 - val_loss: 0.0010 - val_precision: 0.7702 - val_iou_score: 0.7220\n",
      "Epoch 28/50\n",
      "70000/70000 [==============================] - 91s 1ms/sample - loss: 7.7367e-05 - precision: 0.9433 - iou_score: 0.9299 - val_loss: 9.9799e-04 - val_precision: 0.7647 - val_iou_score: 0.7200\n",
      "Epoch 29/50\n",
      "70000/70000 [==============================] - 91s 1ms/sample - loss: 6.4278e-05 - precision: 0.9466 - iou_score: 0.9350 - val_loss: 0.0011 - val_precision: 0.7774 - val_iou_score: 0.7312\n",
      "Epoch 30/50\n",
      "70000/70000 [==============================] - 91s 1ms/sample - loss: 5.7442e-05 - precision: 0.9472 - iou_score: 0.9367 - val_loss: 0.0010 - val_precision: 0.7818 - val_iou_score: 0.7364\n",
      "Epoch 31/50\n",
      "70000/70000 [==============================] - 91s 1ms/sample - loss: 4.7957e-05 - precision: 0.9496 - iou_score: 0.9408 - val_loss: 0.0011 - val_precision: 0.7835 - val_iou_score: 0.7386\n",
      "Epoch 32/50\n",
      "70000/70000 [==============================] - 92s 1ms/sample - loss: 4.3987e-05 - precision: 0.9511 - iou_score: 0.9430 - val_loss: 0.0011 - val_precision: 0.7848 - val_iou_score: 0.7395\n",
      "Epoch 33/50\n",
      "70000/70000 [==============================] - 91s 1ms/sample - loss: 4.1981e-05 - precision: 0.9517 - iou_score: 0.9441 - val_loss: 0.0011 - val_precision: 0.7835 - val_iou_score: 0.7388\n",
      "Epoch 34/50\n",
      "70000/70000 [==============================] - 91s 1ms/sample - loss: 4.4979e-05 - precision: 0.9514 - iou_score: 0.9436 - val_loss: 0.0012 - val_precision: 0.7822 - val_iou_score: 0.7371\n",
      "Epoch 35/50\n",
      "70000/70000 [==============================] - 91s 1ms/sample - loss: 6.8719e-05 - precision: 0.9478 - iou_score: 0.9375 - val_loss: 0.0012 - val_precision: 0.7786 - val_iou_score: 0.7304\n",
      "Epoch 36/50\n",
      "70000/70000 [==============================] - 91s 1ms/sample - loss: 8.2337e-05 - precision: 0.9454 - iou_score: 0.9330 - val_loss: 0.0011 - val_precision: 0.7814 - val_iou_score: 0.7317\n",
      "Epoch 37/50\n",
      "70000/70000 [==============================] - 91s 1ms/sample - loss: 5.9455e-05 - precision: 0.9478 - iou_score: 0.9379 - val_loss: 0.0011 - val_precision: 0.7767 - val_iou_score: 0.7315\n",
      "Epoch 38/50\n",
      "70000/70000 [==============================] - 91s 1ms/sample - loss: 6.2782e-05 - precision: 0.9484 - iou_score: 0.9384 - val_loss: 0.0011 - val_precision: 0.7824 - val_iou_score: 0.7368\n",
      "Epoch 39/50\n",
      "70000/70000 [==============================] - 91s 1ms/sample - loss: 4.6994e-05 - precision: 0.9505 - iou_score: 0.9424 - val_loss: 0.0012 - val_precision: 0.7826 - val_iou_score: 0.7358\n",
      "Epoch 40/50\n",
      "70000/70000 [==============================] - 91s 1ms/sample - loss: 6.4700e-05 - precision: 0.9490 - iou_score: 0.9391 - val_loss: 0.0011 - val_precision: 0.7817 - val_iou_score: 0.7308\n",
      "Epoch 41/50\n",
      "70000/70000 [==============================] - 91s 1ms/sample - loss: 4.7349e-05 - precision: 0.9499 - iou_score: 0.9418 - val_loss: 0.0011 - val_precision: 0.7843 - val_iou_score: 0.7401\n",
      "Epoch 42/50\n",
      "70000/70000 [==============================] - 91s 1ms/sample - loss: 3.9409e-05 - precision: 0.9525 - iou_score: 0.9455 - val_loss: 0.0012 - val_precision: 0.7856 - val_iou_score: 0.7410\n",
      "Epoch 43/50\n",
      "70000/70000 [==============================] - 91s 1ms/sample - loss: 4.6447e-05 - precision: 0.9525 - iou_score: 0.9448 - val_loss: 0.0013 - val_precision: 0.7789 - val_iou_score: 0.7267\n",
      "Epoch 44/50\n",
      "70000/70000 [==============================] - 91s 1ms/sample - loss: 5.9991e-05 - precision: 0.9496 - iou_score: 0.9401 - val_loss: 0.0011 - val_precision: 0.7813 - val_iou_score: 0.7380\n",
      "Epoch 45/50\n",
      "70000/70000 [==============================] - 91s 1ms/sample - loss: 4.1966e-05 - precision: 0.9523 - iou_score: 0.9450 - val_loss: 0.0011 - val_precision: 0.7867 - val_iou_score: 0.7440\n",
      "Epoch 46/50\n",
      "70000/70000 [==============================] - 91s 1ms/sample - loss: 4.9494e-05 - precision: 0.9508 - iou_score: 0.9430 - val_loss: 0.0011 - val_precision: 0.7849 - val_iou_score: 0.7387\n",
      "Epoch 47/50\n",
      "70000/70000 [==============================] - 91s 1ms/sample - loss: 3.8951e-05 - precision: 0.9534 - iou_score: 0.9467 - val_loss: 0.0012 - val_precision: 0.7859 - val_iou_score: 0.7413\n",
      "Epoch 48/50\n",
      "70000/70000 [==============================] - 91s 1ms/sample - loss: 3.9151e-05 - precision: 0.9533 - iou_score: 0.9468 - val_loss: 0.0012 - val_precision: 0.7868 - val_iou_score: 0.7429\n",
      "Epoch 49/50\n",
      "70000/70000 [==============================] - 91s 1ms/sample - loss: 4.3608e-05 - precision: 0.9528 - iou_score: 0.9457 - val_loss: 0.0011 - val_precision: 0.7857 - val_iou_score: 0.7422\n",
      "Epoch 50/50\n",
      "70000/70000 [==============================] - 91s 1ms/sample - loss: 4.1936e-05 - precision: 0.9517 - iou_score: 0.9447 - val_loss: 0.0011 - val_precision: 0.7879 - val_iou_score: 0.7452\n"
     ]
    },
    {
     "data": {
      "text/plain": [
       "<tensorflow.python.keras.callbacks.History at 0x7f37255bf690>"
      ]
     },
     "execution_count": 200,
     "metadata": {},
     "output_type": "execute_result"
    }
   ],
   "source": [
    "# define model\n",
    "model3 = Unet(BACKBONE, encoder_weights='imagenet',activation=\"softmax\",classes=27)\n",
    "model3.compile(optimizer=opt, loss=categorical_crossentropy, metrics=[precision,iou_score])\n",
    "\n",
    "# fit model\n",
    "model3.fit(\n",
    "    x=x_train[0:70000],\n",
    "    y=y_train[0:70000],\n",
    "    batch_size=32,\n",
    "    epochs=50,\n",
    "    validation_data=(x_val, y_val),\n",
    ")"
   ]
  },
  {
   "cell_type": "code",
   "execution_count": 201,
   "metadata": {
    "scrolled": false
   },
   "outputs": [],
   "source": [
    "history3=model3.history.history"
   ]
  },
  {
   "cell_type": "code",
   "execution_count": 202,
   "metadata": {
    "scrolled": true
   },
   "outputs": [
    {
     "data": {
      "text/plain": [
       "0.9516943"
      ]
     },
     "execution_count": 202,
     "metadata": {},
     "output_type": "execute_result"
    }
   ],
   "source": [
    "history3['precision'][49]"
   ]
  },
  {
   "cell_type": "code",
   "execution_count": 203,
   "metadata": {},
   "outputs": [
    {
     "data": {
      "text/plain": [
       "0.7879129"
      ]
     },
     "execution_count": 203,
     "metadata": {},
     "output_type": "execute_result"
    }
   ],
   "source": [
    "history3['val_precision'][49]"
   ]
  },
  {
   "cell_type": "code",
   "execution_count": 204,
   "metadata": {},
   "outputs": [
    {
     "data": {
      "text/plain": [
       "0.9446744"
      ]
     },
     "execution_count": 204,
     "metadata": {},
     "output_type": "execute_result"
    }
   ],
   "source": [
    "history3['iou_score'][49]"
   ]
  },
  {
   "cell_type": "code",
   "execution_count": 205,
   "metadata": {},
   "outputs": [
    {
     "data": {
      "text/plain": [
       "0.7452157"
      ]
     },
     "execution_count": 205,
     "metadata": {},
     "output_type": "execute_result"
    }
   ],
   "source": [
    "history3['val_iou_score'][49]"
   ]
  },
  {
   "cell_type": "code",
   "execution_count": 206,
   "metadata": {},
   "outputs": [],
   "source": [
    "from matplotlib import pyplot as plt"
   ]
  },
  {
   "cell_type": "code",
   "execution_count": 207,
   "metadata": {},
   "outputs": [
    {
     "data": {
      "image/png": "[encoded data removed]",
      "text/plain": [
       "<Figure size 432x288 with 1 Axes>"
      ]
     },
     "metadata": {
      "needs_background": "light"
     },
     "output_type": "display_data"
    }
   ],
   "source": [
    "# summarize history for accuracy\n",
    "plt.plot(history3['precision'])\n",
    "plt.plot(history3['val_precision'])\n",
    "plt.title('model accuracy')\n",
    "plt.ylabel('accuracy')\n",
    "plt.xlabel('epoch')\n",
    "plt.legend(['train', 'validation'], loc='upper left')\n",
    "plt.show()"
   ]
  },
  {
   "cell_type": "code",
   "execution_count": 208,
   "metadata": {
    "scrolled": true
   },
   "outputs": [
    {
     "data": {
      "image/png": "[encoded data removed]",
      "text/plain": [
       "<Figure size 432x288 with 1 Axes>"
      ]
     },
     "metadata": {
      "needs_background": "light"
     },
     "output_type": "display_data"
    }
   ],
   "source": [
    "# summarize history for loss\n",
    "plt.plot(history3['loss'])\n",
    "plt.plot(history3['val_loss'])\n",
    "plt.title('model loss')\n",
    "plt.ylabel('loss')\n",
    "plt.xlabel('epoch')\n",
    "plt.legend(['train', 'validation'], loc='upper left')\n",
    "plt.show()"
   ]
  },
  {
   "cell_type": "code",
   "execution_count": 209,
   "metadata": {},
   "outputs": [
    {
     "data": {
      "image/png": "[encoded data removed]",
      "text/plain": [
       "<Figure size 432x288 with 1 Axes>"
      ]
     },
     "metadata": {
      "needs_background": "light"
     },
     "output_type": "display_data"
    }
   ],
   "source": [
    "# summarize history for loss\n",
    "plt.plot(history3['iou_score'])\n",
    "plt.plot(history3['val_iou_score'])\n",
    "plt.title('model IOU score')\n",
    "plt.ylabel('IOU score')\n",
    "plt.xlabel('epoch')\n",
    "plt.legend(['train', 'validation'], loc='upper left')\n",
    "plt.show()"
   ]
  },
  {
   "cell_type": "markdown",
   "metadata": {},
   "source": [
    "# Model 4 trained on 80 000 images¶\n"
   ]
  },
  {
   "cell_type": "code",
   "execution_count": 210,
   "metadata": {},
   "outputs": [
    {
     "name": "stdout",
     "output_type": "stream",
     "text": [
      "Train on 80000 samples, validate on 25000 samples\n",
      "Epoch 1/50\n",
      "80000/80000 [==============================] - 104s 1ms/sample - loss: 0.0081 - precision: 0.2240 - iou_score: 0.1550 - val_loss: 0.0038 - val_precision: 0.3556 - val_iou_score: 0.2555\n",
      "Epoch 2/50\n",
      "80000/80000 [==============================] - 100s 1ms/sample - loss: 0.0027 - precision: 0.5525 - iou_score: 0.4276 - val_loss: 0.0022 - val_precision: 0.5261 - val_iou_score: 0.4134\n",
      "Epoch 3/50\n",
      "80000/80000 [==============================] - 100s 1ms/sample - loss: 0.0016 - precision: 0.6898 - iou_score: 0.5745 - val_loss: 0.0016 - val_precision: 0.6056 - val_iou_score: 0.4964\n",
      "Epoch 4/50\n",
      "80000/80000 [==============================] - 100s 1ms/sample - loss: 0.0011 - precision: 0.7580 - iou_score: 0.6574 - val_loss: 0.0014 - val_precision: 0.6470 - val_iou_score: 0.5488\n",
      "Epoch 5/50\n",
      "80000/80000 [==============================] - 100s 1ms/sample - loss: 8.4100e-04 - precision: 0.8005 - iou_score: 0.7129 - val_loss: 0.0011 - val_precision: 0.6696 - val_iou_score: 0.5915\n",
      "Epoch 6/50\n",
      "80000/80000 [==============================] - 101s 1ms/sample - loss: 6.5863e-04 - precision: 0.8301 - iou_score: 0.7543 - val_loss: 0.0010 - val_precision: 0.6884 - val_iou_score: 0.6125\n",
      "Epoch 7/50\n",
      "80000/80000 [==============================] - 100s 1ms/sample - loss: 5.3379e-04 - precision: 0.8518 - iou_score: 0.7851 - val_loss: 9.9226e-04 - val_precision: 0.7135 - val_iou_score: 0.6301\n",
      "Epoch 8/50\n",
      "80000/80000 [==============================] - 100s 1ms/sample - loss: 4.3832e-04 - precision: 0.8693 - iou_score: 0.8111 - val_loss: 7.9434e-04 - val_precision: 0.7300 - val_iou_score: 0.6659\n",
      "Epoch 9/50\n",
      "80000/80000 [==============================] - 101s 1ms/sample - loss: 3.7235e-04 - precision: 0.8814 - iou_score: 0.8296 - val_loss: 8.3590e-04 - val_precision: 0.7364 - val_iou_score: 0.6704\n",
      "Epoch 10/50\n",
      "80000/80000 [==============================] - 100s 1ms/sample - loss: 3.2241e-04 - precision: 0.8906 - iou_score: 0.8442 - val_loss: 8.5432e-04 - val_precision: 0.7318 - val_iou_score: 0.6707\n",
      "Epoch 11/50\n",
      "80000/80000 [==============================] - 100s 1ms/sample - loss: 2.7654e-04 - precision: 0.8993 - iou_score: 0.8577 - val_loss: 7.8019e-04 - val_precision: 0.7448 - val_iou_score: 0.6879\n",
      "Epoch 12/50\n",
      "80000/80000 [==============================] - 100s 1ms/sample - loss: 2.3056e-04 - precision: 0.9069 - iou_score: 0.8703 - val_loss: 7.7167e-04 - val_precision: 0.7611 - val_iou_score: 0.7046\n",
      "Epoch 13/50\n",
      "80000/80000 [==============================] - 100s 1ms/sample - loss: 1.9367e-04 - precision: 0.9151 - iou_score: 0.8831 - val_loss: 8.8066e-04 - val_precision: 0.7607 - val_iou_score: 0.6993\n",
      "Epoch 14/50\n",
      "80000/80000 [==============================] - 100s 1ms/sample - loss: 2.0608e-04 - precision: 0.9145 - iou_score: 0.8822 - val_loss: 8.3580e-04 - val_precision: 0.7575 - val_iou_score: 0.7057\n",
      "Epoch 15/50\n",
      "80000/80000 [==============================] - 100s 1ms/sample - loss: 1.8924e-04 - precision: 0.9179 - iou_score: 0.8876 - val_loss: 8.8000e-04 - val_precision: 0.7680 - val_iou_score: 0.7075\n",
      "Epoch 16/50\n",
      "80000/80000 [==============================] - 100s 1ms/sample - loss: 1.6930e-04 - precision: 0.9208 - iou_score: 0.8930 - val_loss: 8.2855e-04 - val_precision: 0.7677 - val_iou_score: 0.7163\n",
      "Epoch 17/50\n",
      "80000/80000 [==============================] - 100s 1ms/sample - loss: 1.3045e-04 - precision: 0.9287 - iou_score: 0.9056 - val_loss: 7.8399e-04 - val_precision: 0.7750 - val_iou_score: 0.7267\n",
      "Epoch 18/50\n",
      "80000/80000 [==============================] - 100s 1ms/sample - loss: 1.2291e-04 - precision: 0.9305 - iou_score: 0.9089 - val_loss: 7.5421e-04 - val_precision: 0.7773 - val_iou_score: 0.7303\n",
      "Epoch 19/50\n",
      "80000/80000 [==============================] - 100s 1ms/sample - loss: 1.0584e-04 - precision: 0.9338 - iou_score: 0.9146 - val_loss: 8.0575e-04 - val_precision: 0.7801 - val_iou_score: 0.7317\n",
      "Epoch 20/50\n",
      "80000/80000 [==============================] - 100s 1ms/sample - loss: 1.0120e-04 - precision: 0.9357 - iou_score: 0.9175 - val_loss: 8.3119e-04 - val_precision: 0.7792 - val_iou_score: 0.7352\n",
      "Epoch 21/50\n",
      "80000/80000 [==============================] - 100s 1ms/sample - loss: 1.0461e-04 - precision: 0.9359 - iou_score: 0.9177 - val_loss: 0.0010 - val_precision: 0.7754 - val_iou_score: 0.7178\n",
      "Epoch 22/50\n",
      "80000/80000 [==============================] - 101s 1ms/sample - loss: 1.0757e-04 - precision: 0.9357 - iou_score: 0.9173 - val_loss: 8.5830e-04 - val_precision: 0.7777 - val_iou_score: 0.7337\n",
      "Epoch 23/50\n",
      "80000/80000 [==============================] - 100s 1ms/sample - loss: 8.7336e-05 - precision: 0.9387 - iou_score: 0.9231 - val_loss: 8.4606e-04 - val_precision: 0.7849 - val_iou_score: 0.7394\n",
      "Epoch 24/50\n",
      "80000/80000 [==============================] - 101s 1ms/sample - loss: 9.8257e-05 - precision: 0.9375 - iou_score: 0.9209 - val_loss: 9.5195e-04 - val_precision: 0.7815 - val_iou_score: 0.7337\n",
      "Epoch 25/50\n",
      "80000/80000 [==============================] - 100s 1ms/sample - loss: 7.7432e-05 - precision: 0.9418 - iou_score: 0.9277 - val_loss: 8.2858e-04 - val_precision: 0.7876 - val_iou_score: 0.7437\n",
      "Epoch 26/50\n",
      "80000/80000 [==============================] - 100s 1ms/sample - loss: 6.4416e-05 - precision: 0.9444 - iou_score: 0.9323 - val_loss: 8.5917e-04 - val_precision: 0.7896 - val_iou_score: 0.7476\n",
      "Epoch 27/50\n",
      "80000/80000 [==============================] - 100s 1ms/sample - loss: 8.3134e-05 - precision: 0.9412 - iou_score: 0.9271 - val_loss: 8.2878e-04 - val_precision: 0.7895 - val_iou_score: 0.7449\n",
      "Epoch 28/50\n",
      "80000/80000 [==============================] - 100s 1ms/sample - loss: 6.6271e-05 - precision: 0.9446 - iou_score: 0.9327 - val_loss: 9.1214e-04 - val_precision: 0.7796 - val_iou_score: 0.7381\n",
      "Epoch 29/50\n",
      "80000/80000 [==============================] - 100s 1ms/sample - loss: 5.7316e-05 - precision: 0.9456 - iou_score: 0.9348 - val_loss: 8.6951e-04 - val_precision: 0.7935 - val_iou_score: 0.7527\n",
      "Epoch 30/50\n",
      "80000/80000 [==============================] - 101s 1ms/sample - loss: 4.7086e-05 - precision: 0.9480 - iou_score: 0.9390 - val_loss: 8.3540e-04 - val_precision: 0.7971 - val_iou_score: 0.7564\n",
      "Epoch 31/50\n",
      "80000/80000 [==============================] - 100s 1ms/sample - loss: 4.1117e-05 - precision: 0.9497 - iou_score: 0.9416 - val_loss: 8.2068e-04 - val_precision: 0.7984 - val_iou_score: 0.7597\n",
      "Epoch 32/50\n",
      "80000/80000 [==============================] - 100s 1ms/sample - loss: 3.8086e-05 - precision: 0.9503 - iou_score: 0.9430 - val_loss: 8.5093e-04 - val_precision: 0.8002 - val_iou_score: 0.7610\n",
      "Epoch 33/50\n",
      "80000/80000 [==============================] - 101s 1ms/sample - loss: 3.4820e-05 - precision: 0.9505 - iou_score: 0.9438 - val_loss: 8.4595e-04 - val_precision: 0.8002 - val_iou_score: 0.7620\n",
      "Epoch 34/50\n",
      "80000/80000 [==============================] - 100s 1ms/sample - loss: 3.2998e-05 - precision: 0.9508 - iou_score: 0.9445 - val_loss: 8.2410e-04 - val_precision: 0.7996 - val_iou_score: 0.7621\n",
      "Epoch 35/50\n",
      "80000/80000 [==============================] - 100s 1ms/sample - loss: 3.1610e-05 - precision: 0.9519 - iou_score: 0.9459 - val_loss: 8.5679e-04 - val_precision: 0.7996 - val_iou_score: 0.7629\n",
      "Epoch 36/50\n",
      "80000/80000 [==============================] - 100s 1ms/sample - loss: 3.0622e-05 - precision: 0.9524 - iou_score: 0.9465 - val_loss: 8.4780e-04 - val_precision: 0.8011 - val_iou_score: 0.7642\n",
      "Epoch 37/50\n",
      "80000/80000 [==============================] - 100s 1ms/sample - loss: 2.9287e-05 - precision: 0.9529 - iou_score: 0.9473 - val_loss: 8.5032e-04 - val_precision: 0.8007 - val_iou_score: 0.7640\n",
      "Epoch 38/50\n",
      "80000/80000 [==============================] - 100s 1ms/sample - loss: 2.8298e-05 - precision: 0.9546 - iou_score: 0.9493 - val_loss: 9.0845e-04 - val_precision: 0.8021 - val_iou_score: 0.7638\n",
      "Epoch 39/50\n",
      "80000/80000 [==============================] - 100s 1ms/sample - loss: 2.7513e-05 - precision: 0.9534 - iou_score: 0.9481 - val_loss: 8.8962e-04 - val_precision: 0.8018 - val_iou_score: 0.7646\n",
      "Epoch 40/50\n",
      "80000/80000 [==============================] - 100s 1ms/sample - loss: 2.7333e-05 - precision: 0.9531 - iou_score: 0.9480 - val_loss: 8.8902e-04 - val_precision: 0.8010 - val_iou_score: 0.7649\n",
      "Epoch 41/50\n",
      "80000/80000 [==============================] - 100s 1ms/sample - loss: 2.6301e-05 - precision: 0.9532 - iou_score: 0.9482 - val_loss: 9.1265e-04 - val_precision: 0.8025 - val_iou_score: 0.7651\n",
      "Epoch 42/50\n",
      "80000/80000 [==============================] - 100s 1ms/sample - loss: 5.1770e-05 - precision: 0.9491 - iou_score: 0.9409 - val_loss: 0.0011 - val_precision: 0.7860 - val_iou_score: 0.7411\n",
      "Epoch 43/50\n",
      "80000/80000 [==============================] - 100s 1ms/sample - loss: 9.1608e-05 - precision: 0.9431 - iou_score: 0.9300 - val_loss: 9.9603e-04 - val_precision: 0.7843 - val_iou_score: 0.7324\n",
      "Epoch 44/50\n",
      "80000/80000 [==============================] - 100s 1ms/sample - loss: 8.7587e-05 - precision: 0.9425 - iou_score: 0.9291 - val_loss: 9.3125e-04 - val_precision: 0.7895 - val_iou_score: 0.7458\n",
      "Epoch 45/50\n",
      "80000/80000 [==============================] - 101s 1ms/sample - loss: 6.6870e-05 - precision: 0.9462 - iou_score: 0.9353 - val_loss: 8.3689e-04 - val_precision: 0.7938 - val_iou_score: 0.7498\n",
      "Epoch 46/50\n",
      "80000/80000 [==============================] - 100s 1ms/sample - loss: 5.4172e-05 - precision: 0.9478 - iou_score: 0.9384 - val_loss: 8.5701e-04 - val_precision: 0.7962 - val_iou_score: 0.7585\n",
      "Epoch 47/50\n",
      "80000/80000 [==============================] - 100s 1ms/sample - loss: 4.0785e-05 - precision: 0.9504 - iou_score: 0.9429 - val_loss: 8.4352e-04 - val_precision: 0.8021 - val_iou_score: 0.7632\n",
      "Epoch 48/50\n",
      "80000/80000 [==============================] - 100s 1ms/sample - loss: 4.7127e-05 - precision: 0.9494 - iou_score: 0.9414 - val_loss: 9.0612e-04 - val_precision: 0.7930 - val_iou_score: 0.7520\n",
      "Epoch 49/50\n",
      "80000/80000 [==============================] - 100s 1ms/sample - loss: 5.0220e-05 - precision: 0.9485 - iou_score: 0.9399 - val_loss: 8.7705e-04 - val_precision: 0.7949 - val_iou_score: 0.7509\n",
      "Epoch 50/50\n",
      "80000/80000 [==============================] - 101s 1ms/sample - loss: 5.7460e-05 - precision: 0.9489 - iou_score: 0.9400 - val_loss: 8.5631e-04 - val_precision: 0.7952 - val_iou_score: 0.7552\n"
     ]
    },
    {
     "data": {
      "text/plain": [
       "<tensorflow.python.keras.callbacks.History at 0x7f3723766150>"
      ]
     },
     "execution_count": 210,
     "metadata": {},
     "output_type": "execute_result"
    }
   ],
   "source": [
    "# define model\n",
    "model4 = Unet(BACKBONE, encoder_weights='imagenet',activation=\"softmax\",classes=27)\n",
    "model4.compile(optimizer=opt, loss=categorical_crossentropy, metrics=[precision,iou_score])\n",
    "\n",
    "# fit model\n",
    "model4.fit(\n",
    "    x=x_train[0:80000],\n",
    "    y=y_train[0:80000],\n",
    "    batch_size=32,\n",
    "    epochs=50,\n",
    "    validation_data=(x_val, y_val),\n",
    ")"
   ]
  },
  {
   "cell_type": "code",
   "execution_count": 211,
   "metadata": {
    "scrolled": false
   },
   "outputs": [],
   "source": [
    "history4=model4.history.history"
   ]
  },
  {
   "cell_type": "code",
   "execution_count": 212,
   "metadata": {
    "scrolled": true
   },
   "outputs": [
    {
     "data": {
      "text/plain": [
       "0.9489124"
      ]
     },
     "execution_count": 212,
     "metadata": {},
     "output_type": "execute_result"
    }
   ],
   "source": [
    "history4['precision'][49]"
   ]
  },
  {
   "cell_type": "code",
   "execution_count": 213,
   "metadata": {},
   "outputs": [
    {
     "data": {
      "text/plain": [
       "0.79522204"
      ]
     },
     "execution_count": 213,
     "metadata": {},
     "output_type": "execute_result"
    }
   ],
   "source": [
    "history4['val_precision'][49]"
   ]
  },
  {
   "cell_type": "code",
   "execution_count": 214,
   "metadata": {},
   "outputs": [
    {
     "data": {
      "text/plain": [
       "0.93995285"
      ]
     },
     "execution_count": 214,
     "metadata": {},
     "output_type": "execute_result"
    }
   ],
   "source": [
    "history4['iou_score'][49]"
   ]
  },
  {
   "cell_type": "code",
   "execution_count": 215,
   "metadata": {},
   "outputs": [
    {
     "data": {
      "text/plain": [
       "0.7552322"
      ]
     },
     "execution_count": 215,
     "metadata": {},
     "output_type": "execute_result"
    }
   ],
   "source": [
    "history4['val_iou_score'][49]"
   ]
  },
  {
   "cell_type": "code",
   "execution_count": 216,
   "metadata": {},
   "outputs": [],
   "source": [
    "from matplotlib import pyplot as plt"
   ]
  },
  {
   "cell_type": "code",
   "execution_count": 217,
   "metadata": {},
   "outputs": [
    {
     "data": {
      "image/png": "[encoded data removed]",
      "text/plain": [
       "<Figure size 432x288 with 1 Axes>"
      ]
     },
     "metadata": {
      "needs_background": "light"
     },
     "output_type": "display_data"
    }
   ],
   "source": [
    "# summarize history for accuracy\n",
    "plt.plot(history4['precision'])\n",
    "plt.plot(history4['val_precision'])\n",
    "plt.title('model accuracy')\n",
    "plt.ylabel('accuracy')\n",
    "plt.xlabel('epoch')\n",
    "plt.legend(['train', 'validation'], loc='upper left')\n",
    "plt.show()"
   ]
  },
  {
   "cell_type": "code",
   "execution_count": 218,
   "metadata": {
    "scrolled": true
   },
   "outputs": [
    {
     "data": {
      "image/png": "[encoded data removed]",
      "text/plain": [
       "<Figure size 432x288 with 1 Axes>"
      ]
     },
     "metadata": {
      "needs_background": "light"
     },
     "output_type": "display_data"
    }
   ],
   "source": [
    "# summarize history for loss\n",
    "plt.plot(history4['loss'])\n",
    "plt.plot(history4['val_loss'])\n",
    "plt.title('model loss')\n",
    "plt.ylabel('loss')\n",
    "plt.xlabel('epoch')\n",
    "plt.legend(['train', 'validation'], loc='upper left')\n",
    "plt.show()"
   ]
  },
  {
   "cell_type": "code",
   "execution_count": 219,
   "metadata": {},
   "outputs": [
    {
     "data": {
      "image/png": "[encoded data removed]",
      "text/plain": [
       "<Figure size 432x288 with 1 Axes>"
      ]
     },
     "metadata": {
      "needs_background": "light"
     },
     "output_type": "display_data"
    }
   ],
   "source": [
    "# summarize history for loss\n",
    "plt.plot(history4['iou_score'])\n",
    "plt.plot(history4['val_iou_score'])\n",
    "plt.title('model IOU score')\n",
    "plt.ylabel('IOU score')\n",
    "plt.xlabel('epoch')\n",
    "plt.legend(['train', 'validation'], loc='upper left')\n",
    "plt.show()"
   ]
  },
  {
   "cell_type": "markdown",
   "metadata": {},
   "source": [
    "# Model 5 trained on 90 000 images¶\n"
   ]
  },
  {
   "cell_type": "code",
   "execution_count": 61,
   "metadata": {},
   "outputs": [
    {
     "name": "stdout",
     "output_type": "stream",
     "text": [
      "Train on 90000 samples, validate on 25000 samples\n",
      "Epoch 1/50\n",
      "90000/90000 [==============================] - 132s 1ms/sample - loss: 0.0104 - precision: 0.1619 - iou_score: 0.1114 - val_loss: 0.0050 - val_precision: 0.3008 - val_iou_score: 0.2032\n",
      "Epoch 2/50\n",
      "90000/90000 [==============================] - 112s 1ms/sample - loss: 0.0032 - precision: 0.4945 - iou_score: 0.3748 - val_loss: 0.0023 - val_precision: 0.5151 - val_iou_score: 0.4121\n",
      "Epoch 3/50\n",
      "90000/90000 [==============================] - 113s 1ms/sample - loss: 0.0017 - precision: 0.6708 - iou_score: 0.5534 - val_loss: 0.0041 - val_precision: 0.5525 - val_iou_score: 0.4507\n",
      "Epoch 4/50\n",
      "90000/90000 [==============================] - 112s 1ms/sample - loss: 0.0012 - precision: 0.7454 - iou_score: 0.6395 - val_loss: 0.0031 - val_precision: 0.6039 - val_iou_score: 0.5073\n",
      "Epoch 5/50\n",
      "90000/90000 [==============================] - 112s 1ms/sample - loss: 0.0012 - precision: 0.7530 - iou_score: 0.6478 - val_loss: 0.0013 - val_precision: 0.6548 - val_iou_score: 0.5592\n",
      "Epoch 6/50\n",
      "90000/90000 [==============================] - 113s 1ms/sample - loss: 8.4032e-04 - precision: 0.8027 - iou_score: 0.7133 - val_loss: 0.0011 - val_precision: 0.6932 - val_iou_score: 0.6073\n",
      "Epoch 7/50\n",
      "90000/90000 [==============================] - 113s 1ms/sample - loss: 6.6392e-04 - precision: 0.8311 - iou_score: 0.7536 - val_loss: 0.0014 - val_precision: 0.6983 - val_iou_score: 0.6185\n",
      "Epoch 8/50\n",
      "90000/90000 [==============================] - 112s 1ms/sample - loss: 5.5465e-04 - precision: 0.8496 - iou_score: 0.7805 - val_loss: 8.5321e-04 - val_precision: 0.7232 - val_iou_score: 0.6551\n",
      "Epoch 9/50\n",
      "90000/90000 [==============================] - 112s 1ms/sample - loss: 4.8342e-04 - precision: 0.8612 - iou_score: 0.7983 - val_loss: 8.4440e-04 - val_precision: 0.7254 - val_iou_score: 0.6560\n",
      "Epoch 10/50\n",
      "90000/90000 [==============================] - 113s 1ms/sample - loss: 4.0364e-04 - precision: 0.8753 - iou_score: 0.8195 - val_loss: 8.4579e-04 - val_precision: 0.7396 - val_iou_score: 0.6679\n",
      "Epoch 11/50\n",
      "90000/90000 [==============================] - 113s 1ms/sample - loss: 3.4698e-04 - precision: 0.8858 - iou_score: 0.8357 - val_loss: 0.0012 - val_precision: 0.7312 - val_iou_score: 0.6700\n",
      "Epoch 12/50\n",
      "90000/90000 [==============================] - 112s 1ms/sample - loss: 3.0252e-04 - precision: 0.8941 - iou_score: 0.8486 - val_loss: 0.0010 - val_precision: 0.7381 - val_iou_score: 0.6737\n",
      "Epoch 13/50\n",
      "90000/90000 [==============================] - 112s 1ms/sample - loss: 2.6488e-04 - precision: 0.9007 - iou_score: 0.8595 - val_loss: 7.1670e-04 - val_precision: 0.7611 - val_iou_score: 0.7040\n",
      "Epoch 14/50\n",
      "90000/90000 [==============================] - 113s 1ms/sample - loss: 2.3878e-04 - precision: 0.9060 - iou_score: 0.8681 - val_loss: 8.1736e-04 - val_precision: 0.7546 - val_iou_score: 0.7008\n",
      "Epoch 15/50\n",
      "90000/90000 [==============================] - 112s 1ms/sample - loss: 2.0517e-04 - precision: 0.9123 - iou_score: 0.8784 - val_loss: 7.6704e-04 - val_precision: 0.7630 - val_iou_score: 0.7139\n",
      "Epoch 16/50\n",
      "90000/90000 [==============================] - 112s 1ms/sample - loss: 2.2225e-04 - precision: 0.9097 - iou_score: 0.8745 - val_loss: 7.7632e-04 - val_precision: 0.7613 - val_iou_score: 0.7111\n",
      "Epoch 17/50\n",
      "90000/90000 [==============================] - 113s 1ms/sample - loss: 1.7920e-04 - precision: 0.9182 - iou_score: 0.8877 - val_loss: 8.3031e-04 - val_precision: 0.7703 - val_iou_score: 0.7200\n",
      "Epoch 18/50\n",
      "90000/90000 [==============================] - 112s 1ms/sample - loss: 1.5144e-04 - precision: 0.9238 - iou_score: 0.8969 - val_loss: 8.7199e-04 - val_precision: 0.7656 - val_iou_score: 0.7212\n",
      "Epoch 19/50\n",
      "90000/90000 [==============================] - 112s 1ms/sample - loss: 1.6692e-04 - precision: 0.9211 - iou_score: 0.8929 - val_loss: 8.0448e-04 - val_precision: 0.7697 - val_iou_score: 0.7205\n",
      "Epoch 20/50\n",
      "90000/90000 [==============================] - 113s 1ms/sample - loss: 1.3975e-04 - precision: 0.9259 - iou_score: 0.9011 - val_loss: 9.2315e-04 - val_precision: 0.7717 - val_iou_score: 0.7254\n",
      "Epoch 21/50\n",
      "90000/90000 [==============================] - 112s 1ms/sample - loss: 1.1805e-04 - precision: 0.9301 - iou_score: 0.9084 - val_loss: 0.0011 - val_precision: 0.7647 - val_iou_score: 0.7185\n",
      "Epoch 22/50\n",
      "90000/90000 [==============================] - 112s 1ms/sample - loss: 2.0814e-04 - precision: 0.9166 - iou_score: 0.8852 - val_loss: 0.0013 - val_precision: 0.7561 - val_iou_score: 0.7073\n",
      "Epoch 23/50\n",
      "90000/90000 [==============================] - 112s 1ms/sample - loss: 1.5611e-04 - precision: 0.9238 - iou_score: 0.8975 - val_loss: 7.8993e-04 - val_precision: 0.7696 - val_iou_score: 0.7275\n",
      "Epoch 24/50\n",
      "90000/90000 [==============================] - 112s 1ms/sample - loss: 1.0492e-04 - precision: 0.9340 - iou_score: 0.9143 - val_loss: 0.0011 - val_precision: 0.7667 - val_iou_score: 0.7227\n",
      "Epoch 25/50\n",
      "90000/90000 [==============================] - 112s 1ms/sample - loss: 9.2927e-05 - precision: 0.9361 - iou_score: 0.9186 - val_loss: 8.6819e-04 - val_precision: 0.7771 - val_iou_score: 0.7397\n",
      "Epoch 26/50\n",
      "90000/90000 [==============================] - 112s 1ms/sample - loss: 8.6215e-05 - precision: 0.9380 - iou_score: 0.9215 - val_loss: 9.0402e-04 - val_precision: 0.7768 - val_iou_score: 0.7397\n",
      "Epoch 27/50\n",
      "90000/90000 [==============================] - 112s 1ms/sample - loss: 8.6671e-05 - precision: 0.9380 - iou_score: 0.9219 - val_loss: 0.0011 - val_precision: 0.7742 - val_iou_score: 0.7353\n",
      "Epoch 28/50\n",
      "90000/90000 [==============================] - 112s 1ms/sample - loss: 8.0660e-05 - precision: 0.9394 - iou_score: 0.9240 - val_loss: 0.0014 - val_precision: 0.7657 - val_iou_score: 0.7252\n",
      "Epoch 29/50\n",
      "90000/90000 [==============================] - 113s 1ms/sample - loss: 7.4002e-05 - precision: 0.9402 - iou_score: 0.9260 - val_loss: 9.1657e-04 - val_precision: 0.7756 - val_iou_score: 0.7377\n",
      "Epoch 30/50\n",
      "90000/90000 [==============================] - 112s 1ms/sample - loss: 7.4478e-05 - precision: 0.9407 - iou_score: 0.9266 - val_loss: 0.0011 - val_precision: 0.7708 - val_iou_score: 0.7342\n",
      "Epoch 31/50\n",
      "90000/90000 [==============================] - 112s 1ms/sample - loss: 1.0005e-04 - precision: 0.9367 - iou_score: 0.9192 - val_loss: 0.0011 - val_precision: 0.7736 - val_iou_score: 0.7329\n",
      "Epoch 32/50\n",
      "90000/90000 [==============================] - 111s 1ms/sample - loss: 7.2099e-05 - precision: 0.9414 - iou_score: 0.9277 - val_loss: 0.0011 - val_precision: 0.7807 - val_iou_score: 0.7407\n",
      "Epoch 33/50\n",
      "90000/90000 [==============================] - 113s 1ms/sample - loss: 6.4357e-05 - precision: 0.9437 - iou_score: 0.9316 - val_loss: 0.0011 - val_precision: 0.7786 - val_iou_score: 0.7415\n",
      "Epoch 34/50\n",
      "90000/90000 [==============================] - 112s 1ms/sample - loss: 5.3906e-05 - precision: 0.9445 - iou_score: 0.9337 - val_loss: 0.0010 - val_precision: 0.7797 - val_iou_score: 0.7432\n",
      "Epoch 35/50\n",
      "90000/90000 [==============================] - 112s 1ms/sample - loss: 4.9632e-05 - precision: 0.9465 - iou_score: 0.9367 - val_loss: 8.2694e-04 - val_precision: 0.7909 - val_iou_score: 0.7554\n",
      "Epoch 36/50\n",
      "90000/90000 [==============================] - 113s 1ms/sample - loss: 6.1448e-05 - precision: 0.9453 - iou_score: 0.9337 - val_loss: 8.7509e-04 - val_precision: 0.7911 - val_iou_score: 0.7519\n",
      "Epoch 37/50\n",
      "90000/90000 [==============================] - 113s 1ms/sample - loss: 4.6341e-05 - precision: 0.9466 - iou_score: 0.9375 - val_loss: 0.0011 - val_precision: 0.7852 - val_iou_score: 0.7486\n",
      "Epoch 38/50\n",
      "90000/90000 [==============================] - 113s 1ms/sample - loss: 4.2060e-05 - precision: 0.9481 - iou_score: 0.9397 - val_loss: 0.0011 - val_precision: 0.7883 - val_iou_score: 0.7553\n",
      "Epoch 39/50\n",
      "90000/90000 [==============================] - 112s 1ms/sample - loss: 3.7041e-05 - precision: 0.9493 - iou_score: 0.9419 - val_loss: 0.0010 - val_precision: 0.7883 - val_iou_score: 0.7540\n",
      "Epoch 40/50\n",
      "90000/90000 [==============================] - 112s 1ms/sample - loss: 5.4642e-05 - precision: 0.9468 - iou_score: 0.9372 - val_loss: 0.0010 - val_precision: 0.7835 - val_iou_score: 0.7480\n",
      "Epoch 41/50\n",
      "90000/90000 [==============================] - 114s 1ms/sample - loss: 5.4429e-05 - precision: 0.9453 - iou_score: 0.9354 - val_loss: 0.0011 - val_precision: 0.7843 - val_iou_score: 0.7497\n",
      "Epoch 42/50\n",
      "90000/90000 [==============================] - 112s 1ms/sample - loss: 4.0971e-05 - precision: 0.9492 - iou_score: 0.9412 - val_loss: 0.0011 - val_precision: 0.7872 - val_iou_score: 0.7537\n",
      "Epoch 43/50\n",
      "90000/90000 [==============================] - 113s 1ms/sample - loss: 4.2901e-05 - precision: 0.9490 - iou_score: 0.9409 - val_loss: 9.7308e-04 - val_precision: 0.7886 - val_iou_score: 0.7537\n",
      "Epoch 44/50\n",
      "90000/90000 [==============================] - 113s 1ms/sample - loss: 4.4007e-05 - precision: 0.9481 - iou_score: 0.9398 - val_loss: 9.5221e-04 - val_precision: 0.7924 - val_iou_score: 0.7584\n",
      "Epoch 45/50\n",
      "90000/90000 [==============================] - 116s 1ms/sample - loss: 4.0237e-05 - precision: 0.9491 - iou_score: 0.9416 - val_loss: 0.0011 - val_precision: 0.7872 - val_iou_score: 0.7505\n",
      "Epoch 46/50\n",
      "90000/90000 [==============================] - 113s 1ms/sample - loss: 4.9440e-05 - precision: 0.9478 - iou_score: 0.9391 - val_loss: 0.0010 - val_precision: 0.7847 - val_iou_score: 0.7485\n",
      "Epoch 47/50\n",
      "90000/90000 [==============================] - 113s 1ms/sample - loss: 4.8646e-05 - precision: 0.9481 - iou_score: 0.9394 - val_loss: 0.0010 - val_precision: 0.7894 - val_iou_score: 0.7541\n",
      "Epoch 48/50\n",
      "90000/90000 [==============================] - 113s 1ms/sample - loss: 3.8276e-05 - precision: 0.9490 - iou_score: 0.9416 - val_loss: 9.1694e-04 - val_precision: 0.7929 - val_iou_score: 0.7604\n",
      "Epoch 49/50\n",
      "90000/90000 [==============================] - 112s 1ms/sample - loss: 3.2633e-05 - precision: 0.9510 - iou_score: 0.9445 - val_loss: 0.0010 - val_precision: 0.7929 - val_iou_score: 0.7618\n",
      "Epoch 50/50\n",
      "90000/90000 [==============================] - 113s 1ms/sample - loss: 2.9513e-05 - precision: 0.9522 - iou_score: 0.9463 - val_loss: 0.0011 - val_precision: 0.7908 - val_iou_score: 0.7588\n"
     ]
    },
    {
     "data": {
      "text/plain": [
       "<tensorflow.python.keras.callbacks.History at 0x7fbd97666710>"
      ]
     },
     "execution_count": 61,
     "metadata": {},
     "output_type": "execute_result"
    }
   ],
   "source": [
    "from segmentation_models import Unet\n",
    "from segmentation_models import get_preprocessing\n",
    "from segmentation_models.losses import categorical_crossentropy\n",
    "from segmentation_models.metrics import iou_score, precision\n",
    "\n",
    "\n",
    "BACKBONE = 'resnet34'\n",
    "preprocess_input = get_preprocessing(BACKBONE)\n",
    "opt=opt = tf.keras.optimizers.Adam(epsilon=1e-4)\n",
    "\n",
    "# load your data\n",
    "\n",
    "# preprocess input\n",
    "\n",
    "# define model\n",
    "model5 = Unet(BACKBONE, encoder_weights='imagenet',activation=\"softmax\",classes=27)\n",
    "model5.compile(optimizer=opt, loss=categorical_crossentropy, metrics=[precision,iou_score])\n",
    "\n",
    "# fit model\n",
    "model5.fit(\n",
    "    x=x_train[0:90000],\n",
    "    y=y_train[0:90000],\n",
    "    batch_size=32,\n",
    "    epochs=50,\n",
    "    validation_data=(x_val, y_val),\n",
    ")"
   ]
  },
  {
   "cell_type": "code",
   "execution_count": 62,
   "metadata": {
    "scrolled": false
   },
   "outputs": [],
   "source": [
    "history5=model5.history.history"
   ]
  },
  {
   "cell_type": "code",
   "execution_count": 63,
   "metadata": {
    "scrolled": true
   },
   "outputs": [
    {
     "data": {
      "text/plain": [
       "0.9521983"
      ]
     },
     "execution_count": 63,
     "metadata": {},
     "output_type": "execute_result"
    }
   ],
   "source": [
    "history5['precision'][49]"
   ]
  },
  {
   "cell_type": "code",
   "execution_count": 64,
   "metadata": {},
   "outputs": [
    {
     "data": {
      "text/plain": [
       "0.79079646"
      ]
     },
     "execution_count": 64,
     "metadata": {},
     "output_type": "execute_result"
    }
   ],
   "source": [
    "history5['val_precision'][49]"
   ]
  },
  {
   "cell_type": "code",
   "execution_count": 65,
   "metadata": {},
   "outputs": [
    {
     "data": {
      "text/plain": [
       "0.94632083"
      ]
     },
     "execution_count": 65,
     "metadata": {},
     "output_type": "execute_result"
    }
   ],
   "source": [
    "history5['iou_score'][49]"
   ]
  },
  {
   "cell_type": "code",
   "execution_count": 66,
   "metadata": {},
   "outputs": [
    {
     "data": {
      "text/plain": [
       "0.7588022"
      ]
     },
     "execution_count": 66,
     "metadata": {},
     "output_type": "execute_result"
    }
   ],
   "source": [
    "history5['val_iou_score'][49]"
   ]
  },
  {
   "cell_type": "code",
   "execution_count": 67,
   "metadata": {},
   "outputs": [],
   "source": [
    "from matplotlib import pyplot as plt"
   ]
  },
  {
   "cell_type": "code",
   "execution_count": 68,
   "metadata": {},
   "outputs": [
    {
     "data": {
      "image/png": "[encoded data removed]",
      "text/plain": [
       "<Figure size 432x288 with 1 Axes>"
      ]
     },
     "metadata": {
      "needs_background": "light"
     },
     "output_type": "display_data"
    }
   ],
   "source": [
    "# summarize history for accuracy\n",
    "plt.plot(history5['precision'])\n",
    "plt.plot(history5['val_precision'])\n",
    "plt.title('model accuracy')\n",
    "plt.ylabel('accuracy')\n",
    "plt.xlabel('epoch')\n",
    "plt.legend(['train', 'validation'], loc='upper left')\n",
    "plt.show()"
   ]
  },
  {
   "cell_type": "code",
   "execution_count": 69,
   "metadata": {
    "scrolled": true
   },
   "outputs": [
    {
     "data": {
      "image/png": "[encoded data removed]",
      "text/plain": [
       "<Figure size 432x288 with 1 Axes>"
      ]
     },
     "metadata": {
      "needs_background": "light"
     },
     "output_type": "display_data"
    }
   ],
   "source": [
    "# summarize history for loss\n",
    "plt.plot(history5['loss'])\n",
    "plt.plot(history5['val_loss'])\n",
    "plt.title('model loss')\n",
    "plt.ylabel('loss')\n",
    "plt.xlabel('epoch')\n",
    "plt.legend(['train', 'validation'], loc='upper left')\n",
    "plt.show()"
   ]
  },
  {
   "cell_type": "code",
   "execution_count": 70,
   "metadata": {},
   "outputs": [
    {
     "data": {
      "image/png": "[encoded data removed]",
      "text/plain": [
       "<Figure size 432x288 with 1 Axes>"
      ]
     },
     "metadata": {
      "needs_background": "light"
     },
     "output_type": "display_data"
    }
   ],
   "source": [
    "# summarize history for loss\n",
    "plt.plot(history5['iou_score'])\n",
    "plt.plot(history5['val_iou_score'])\n",
    "plt.title('model IOU score')\n",
    "plt.ylabel('IOU score')\n",
    "plt.xlabel('epoch')\n",
    "plt.legend(['train', 'validation'], loc='upper left')\n",
    "plt.show()"
   ]
  },
  {
   "cell_type": "markdown",
   "metadata": {},
   "source": [
    "# Model 6 trained on 100 000 images"
   ]
  },
  {
   "cell_type": "code",
   "execution_count": 175,
   "metadata": {},
   "outputs": [
    {
     "name": "stdout",
     "output_type": "stream",
     "text": [
      "Train on 100000 samples, validate on 25000 samples\n",
      "Epoch 1/50\n",
      "100000/100000 [==============================] - 127s 1ms/sample - loss: 0.0070 - precision: 0.2506 - iou_score: 0.1755 - val_loss: 0.0033 - val_precision: 0.4021 - val_iou_score: 0.2959\n",
      "Epoch 2/50\n",
      "100000/100000 [==============================] - 123s 1ms/sample - loss: 0.0023 - precision: 0.5696 - iou_score: 0.4491 - val_loss: 0.0018 - val_precision: 0.5658 - val_iou_score: 0.4516\n",
      "Epoch 3/50\n",
      "100000/100000 [==============================] - 123s 1ms/sample - loss: 0.0014 - precision: 0.6981 - iou_score: 0.5880 - val_loss: 0.0013 - val_precision: 0.6384 - val_iou_score: 0.5393\n",
      "Epoch 4/50\n",
      "100000/100000 [==============================] - 123s 1ms/sample - loss: 9.4671e-04 - precision: 0.7693 - iou_score: 0.6727 - val_loss: 9.5554e-04 - val_precision: 0.6847 - val_iou_score: 0.5998\n",
      "Epoch 5/50\n",
      "100000/100000 [==============================] - 123s 1ms/sample - loss: 7.1209e-04 - precision: 0.8121 - iou_score: 0.7287 - val_loss: 8.1186e-04 - val_precision: 0.7071 - val_iou_score: 0.6326\n",
      "Epoch 6/50\n",
      "100000/100000 [==============================] - 123s 1ms/sample - loss: 5.5953e-04 - precision: 0.8402 - iou_score: 0.7683 - val_loss: 7.3528e-04 - val_precision: 0.7251 - val_iou_score: 0.6529\n",
      "Epoch 7/50\n",
      "100000/100000 [==============================] - 123s 1ms/sample - loss: 4.5445e-04 - precision: 0.8607 - iou_score: 0.7983 - val_loss: 7.3517e-04 - val_precision: 0.7333 - val_iou_score: 0.6648\n",
      "Epoch 8/50\n",
      "100000/100000 [==============================] - 123s 1ms/sample - loss: 3.7866e-04 - precision: 0.8758 - iou_score: 0.8207 - val_loss: 6.5375e-04 - val_precision: 0.7547 - val_iou_score: 0.6898\n",
      "Epoch 9/50\n",
      "100000/100000 [==============================] - 123s 1ms/sample - loss: 3.1805e-04 - precision: 0.8869 - iou_score: 0.8387 - val_loss: 5.5925e-04 - val_precision: 0.7636 - val_iou_score: 0.7098\n",
      "Epoch 10/50\n",
      "100000/100000 [==============================] - 123s 1ms/sample - loss: 2.7164e-04 - precision: 0.8963 - iou_score: 0.8533 - val_loss: 5.4842e-04 - val_precision: 0.7718 - val_iou_score: 0.7166\n",
      "Epoch 11/50\n",
      "100000/100000 [==============================] - 123s 1ms/sample - loss: 2.3281e-04 - precision: 0.9035 - iou_score: 0.8653 - val_loss: 5.7442e-04 - val_precision: 0.7676 - val_iou_score: 0.7172\n",
      "Epoch 12/50\n",
      "100000/100000 [==============================] - 123s 1ms/sample - loss: 2.0874e-04 - precision: 0.9091 - iou_score: 0.8742 - val_loss: 5.6168e-04 - val_precision: 0.7742 - val_iou_score: 0.7262\n",
      "Epoch 13/50\n",
      "100000/100000 [==============================] - 123s 1ms/sample - loss: 1.8393e-04 - precision: 0.9140 - iou_score: 0.8824 - val_loss: 5.5044e-04 - val_precision: 0.7766 - val_iou_score: 0.7311\n",
      "Epoch 14/50\n",
      "100000/100000 [==============================] - 123s 1ms/sample - loss: 1.6786e-04 - precision: 0.9188 - iou_score: 0.8896 - val_loss: 5.2651e-04 - val_precision: 0.7824 - val_iou_score: 0.7359\n",
      "Epoch 15/50\n",
      "100000/100000 [==============================] - 124s 1ms/sample - loss: 1.5272e-04 - precision: 0.9209 - iou_score: 0.8938 - val_loss: 5.7248e-04 - val_precision: 0.7777 - val_iou_score: 0.7321\n",
      "Epoch 16/50\n",
      "100000/100000 [==============================] - 123s 1ms/sample - loss: 1.3562e-04 - precision: 0.9251 - iou_score: 0.9007 - val_loss: 5.4325e-04 - val_precision: 0.7879 - val_iou_score: 0.7416\n",
      "Epoch 17/50\n",
      "100000/100000 [==============================] - 125s 1ms/sample - loss: 1.2161e-04 - precision: 0.9280 - iou_score: 0.9056 - val_loss: 5.1755e-04 - val_precision: 0.7890 - val_iou_score: 0.7474\n",
      "Epoch 18/50\n",
      "100000/100000 [==============================] - 123s 1ms/sample - loss: 1.1017e-04 - precision: 0.9307 - iou_score: 0.9102 - val_loss: 4.8377e-04 - val_precision: 0.7952 - val_iou_score: 0.7571\n",
      "Epoch 19/50\n",
      "100000/100000 [==============================] - 123s 1ms/sample - loss: 1.0745e-04 - precision: 0.9312 - iou_score: 0.9114 - val_loss: 4.8739e-04 - val_precision: 0.7961 - val_iou_score: 0.7603\n",
      "Epoch 20/50\n",
      "100000/100000 [==============================] - 123s 1ms/sample - loss: 8.0402e-05 - precision: 0.9372 - iou_score: 0.9211 - val_loss: 4.8692e-04 - val_precision: 0.8009 - val_iou_score: 0.7647\n",
      "Epoch 21/50\n",
      "100000/100000 [==============================] - 123s 1ms/sample - loss: 7.7284e-05 - precision: 0.9382 - iou_score: 0.9229 - val_loss: 5.0451e-04 - val_precision: 0.8036 - val_iou_score: 0.7632\n",
      "Epoch 22/50\n",
      "100000/100000 [==============================] - 123s 1ms/sample - loss: 8.2982e-05 - precision: 0.9381 - iou_score: 0.9226 - val_loss: 5.6205e-04 - val_precision: 0.7984 - val_iou_score: 0.7559\n",
      "Epoch 23/50\n",
      "100000/100000 [==============================] - 123s 1ms/sample - loss: 8.7114e-05 - precision: 0.9370 - iou_score: 0.9209 - val_loss: 5.8021e-04 - val_precision: 0.7987 - val_iou_score: 0.7546\n",
      "Epoch 24/50\n",
      "100000/100000 [==============================] - 123s 1ms/sample - loss: 8.2703e-05 - precision: 0.9382 - iou_score: 0.9227 - val_loss: 4.8498e-04 - val_precision: 0.8012 - val_iou_score: 0.7681\n",
      "Epoch 25/50\n",
      "100000/100000 [==============================] - 123s 1ms/sample - loss: 6.1329e-05 - precision: 0.9415 - iou_score: 0.9290 - val_loss: 4.6668e-04 - val_precision: 0.8052 - val_iou_score: 0.7724\n",
      "Epoch 26/50\n",
      "100000/100000 [==============================] - 123s 1ms/sample - loss: 7.7003e-05 - precision: 0.9404 - iou_score: 0.9265 - val_loss: 5.8881e-04 - val_precision: 0.8020 - val_iou_score: 0.7591\n",
      "Epoch 27/50\n",
      "100000/100000 [==============================] - 123s 1ms/sample - loss: 6.9295e-05 - precision: 0.9408 - iou_score: 0.9276 - val_loss: 4.9819e-04 - val_precision: 0.8069 - val_iou_score: 0.7720\n",
      "Epoch 28/50\n",
      "100000/100000 [==============================] - 123s 1ms/sample - loss: 5.8839e-05 - precision: 0.9431 - iou_score: 0.9315 - val_loss: 6.0826e-04 - val_precision: 0.7977 - val_iou_score: 0.7592\n",
      "Epoch 29/50\n",
      "100000/100000 [==============================] - 123s 1ms/sample - loss: 6.6287e-05 - precision: 0.9426 - iou_score: 0.9302 - val_loss: 4.8449e-04 - val_precision: 0.8079 - val_iou_score: 0.7739\n",
      "Epoch 30/50\n",
      "100000/100000 [==============================] - 123s 1ms/sample - loss: 4.9580e-05 - precision: 0.9454 - iou_score: 0.9354 - val_loss: 4.7695e-04 - val_precision: 0.8093 - val_iou_score: 0.7782\n",
      "Epoch 31/50\n",
      "100000/100000 [==============================] - 123s 1ms/sample - loss: 3.6765e-05 - precision: 0.9486 - iou_score: 0.9408 - val_loss: 4.6122e-04 - val_precision: 0.8122 - val_iou_score: 0.7828\n",
      "Epoch 32/50\n",
      "100000/100000 [==============================] - 123s 1ms/sample - loss: 3.1566e-05 - precision: 0.9491 - iou_score: 0.9423 - val_loss: 4.5492e-04 - val_precision: 0.8139 - val_iou_score: 0.7852\n",
      "Epoch 33/50\n",
      " 98400/100000 [============================>.] - ETA: 1s - loss: 2.9802e-05 - precision: 0.9499 - iou_score: 0.9436"
     ]
    },
    {
     "name": "stderr",
     "output_type": "stream",
     "text": [
      "IOPub message rate exceeded.\n",
      "The notebook server will temporarily stop sending output\n",
      "to the client in order to avoid crashing it.\n",
      "To change this limit, set the config variable\n",
      "`--NotebookApp.iopub_msg_rate_limit`.\n",
      "\n",
      "Current values:\n",
      "NotebookApp.iopub_msg_rate_limit=1000.0 (msgs/sec)\n",
      "NotebookApp.rate_limit_window=3.0 (secs)\n",
      "\n"
     ]
    },
    {
     "name": "stdout",
     "output_type": "stream",
     "text": [
      "100000/100000 [==============================] - 123s 1ms/sample - loss: 2.9463e-05 - precision: 0.9502 - iou_score: 0.9440 - val_loss: 4.6204e-04 - val_precision: 0.8161 - val_iou_score: 0.7871\n",
      "Epoch 35/50\n",
      "100000/100000 [==============================] - 123s 1ms/sample - loss: 2.6998e-05 - precision: 0.9510 - iou_score: 0.9452 - val_loss: 4.8788e-04 - val_precision: 0.8155 - val_iou_score: 0.7852\n",
      "Epoch 36/50\n",
      "100000/100000 [==============================] - 123s 1ms/sample - loss: 2.7804e-05 - precision: 0.9508 - iou_score: 0.9449 - val_loss: 5.1771e-04 - val_precision: 0.8142 - val_iou_score: 0.7811\n",
      "Epoch 37/50\n",
      "100000/100000 [==============================] - 123s 1ms/sample - loss: 3.0316e-05 - precision: 0.9507 - iou_score: 0.9445 - val_loss: 4.9591e-04 - val_precision: 0.8144 - val_iou_score: 0.7841\n",
      "Epoch 38/50\n",
      "100000/100000 [==============================] - 123s 1ms/sample - loss: 3.2484e-05 - precision: 0.9499 - iou_score: 0.9435 - val_loss: 4.9999e-04 - val_precision: 0.8155 - val_iou_score: 0.7830\n",
      "Epoch 39/50\n",
      "100000/100000 [==============================] - 122s 1ms/sample - loss: 2.9509e-05 - precision: 0.9501 - iou_score: 0.9441 - val_loss: 5.3663e-04 - val_precision: 0.8135 - val_iou_score: 0.7806\n",
      "Epoch 40/50\n",
      "100000/100000 [==============================] - 123s 1ms/sample - loss: 5.0017e-05 - precision: 0.9466 - iou_score: 0.9375 - val_loss: 5.4030e-04 - val_precision: 0.8092 - val_iou_score: 0.7742\n",
      "Epoch 41/50\n",
      "100000/100000 [==============================] - 123s 1ms/sample - loss: 4.5488e-05 - precision: 0.9479 - iou_score: 0.9395 - val_loss: 7.5140e-04 - val_precision: 0.7997 - val_iou_score: 0.7643\n",
      "Epoch 42/50\n",
      "100000/100000 [==============================] - 123s 1ms/sample - loss: 6.2204e-05 - precision: 0.9456 - iou_score: 0.9349 - val_loss: 4.8985e-04 - val_precision: 0.8104 - val_iou_score: 0.7787\n",
      "Epoch 43/50\n",
      "100000/100000 [==============================] - 123s 1ms/sample - loss: 4.6017e-05 - precision: 0.9472 - iou_score: 0.9385 - val_loss: 5.1895e-04 - val_precision: 0.8118 - val_iou_score: 0.7773\n",
      "Epoch 44/50\n",
      "100000/100000 [==============================] - 123s 1ms/sample - loss: 4.4028e-05 - precision: 0.9484 - iou_score: 0.9401 - val_loss: 4.8159e-04 - val_precision: 0.8116 - val_iou_score: 0.7797\n",
      "Epoch 45/50\n",
      "100000/100000 [==============================] - 125s 1ms/sample - loss: 4.4055e-05 - precision: 0.9475 - iou_score: 0.9393 - val_loss: 5.5313e-04 - val_precision: 0.8106 - val_iou_score: 0.7755\n",
      "Epoch 46/50\n",
      "100000/100000 [==============================] - 123s 1ms/sample - loss: 5.1275e-05 - precision: 0.9461 - iou_score: 0.9370 - val_loss: 4.9529e-04 - val_precision: 0.8116 - val_iou_score: 0.7804\n",
      "Epoch 47/50\n",
      "100000/100000 [==============================] - 123s 1ms/sample - loss: 3.3718e-05 - precision: 0.9502 - iou_score: 0.9434 - val_loss: 4.9506e-04 - val_precision: 0.8153 - val_iou_score: 0.7843\n",
      "Epoch 48/50\n",
      "100000/100000 [==============================] - 123s 1ms/sample - loss: 2.9844e-05 - precision: 0.9506 - iou_score: 0.9448 - val_loss: 4.8042e-04 - val_precision: 0.8165 - val_iou_score: 0.7883\n",
      "Epoch 49/50\n",
      "100000/100000 [==============================] - 123s 1ms/sample - loss: 3.3912e-05 - precision: 0.9503 - iou_score: 0.9439 - val_loss: 5.3646e-04 - val_precision: 0.8092 - val_iou_score: 0.7788\n",
      "Epoch 50/50\n",
      "100000/100000 [==============================] - 123s 1ms/sample - loss: 3.5462e-05 - precision: 0.9502 - iou_score: 0.9435 - val_loss: 5.2589e-04 - val_precision: 0.8113 - val_iou_score: 0.7813\n"
     ]
    },
    {
     "data": {
      "text/plain": [
       "<tensorflow.python.keras.callbacks.History at 0x7f37435a8150>"
      ]
     },
     "execution_count": 175,
     "metadata": {},
     "output_type": "execute_result"
    }
   ],
   "source": [
    "# define model\n",
    "model6 = Unet(BACKBONE, encoder_weights='imagenet',activation=\"softmax\",classes=27)\n",
    "model6.compile(optimizer=opt, loss=categorical_crossentropy, metrics=[precision,iou_score])\n",
    "\n",
    "# fit model\n",
    "model6.fit(\n",
    "    x=x_train[0:100000],\n",
    "    y=y_train[0:100000],\n",
    "    batch_size=32,\n",
    "    epochs=50,\n",
    "    validation_data=(x_val, y_val),\n",
    ")"
   ]
  },
  {
   "cell_type": "code",
   "execution_count": 176,
   "metadata": {
    "scrolled": false
   },
   "outputs": [],
   "source": [
    "history6=model6.history.history"
   ]
  },
  {
   "cell_type": "code",
   "execution_count": 177,
   "metadata": {
    "scrolled": true
   },
   "outputs": [
    {
     "data": {
      "text/plain": [
       "0.9502203"
      ]
     },
     "execution_count": 177,
     "metadata": {},
     "output_type": "execute_result"
    }
   ],
   "source": [
    "history6['precision'][49]"
   ]
  },
  {
   "cell_type": "code",
   "execution_count": 178,
   "metadata": {},
   "outputs": [
    {
     "data": {
      "text/plain": [
       "0.8112839"
      ]
     },
     "execution_count": 178,
     "metadata": {},
     "output_type": "execute_result"
    }
   ],
   "source": [
    "history6['val_precision'][49]"
   ]
  },
  {
   "cell_type": "code",
   "execution_count": 179,
   "metadata": {},
   "outputs": [
    {
     "data": {
      "text/plain": [
       "0.9435303"
      ]
     },
     "execution_count": 179,
     "metadata": {},
     "output_type": "execute_result"
    }
   ],
   "source": [
    "history6['iou_score'][49]"
   ]
  },
  {
   "cell_type": "code",
   "execution_count": 180,
   "metadata": {},
   "outputs": [
    {
     "data": {
      "text/plain": [
       "0.7813241"
      ]
     },
     "execution_count": 180,
     "metadata": {},
     "output_type": "execute_result"
    }
   ],
   "source": [
    "history6['val_iou_score'][49]"
   ]
  },
  {
   "cell_type": "code",
   "execution_count": 1,
   "metadata": {},
   "outputs": [],
   "source": [
    "from matplotlib import pyplot as plt"
   ]
  },
  {
   "cell_type": "code",
   "execution_count": 182,
   "metadata": {},
   "outputs": [
    {
     "data": {
      "image/png": "[encoded data removed]",
      "text/plain": [
       "<Figure size 432x288 with 1 Axes>"
      ]
     },
     "metadata": {
      "needs_background": "light"
     },
     "output_type": "display_data"
    }
   ],
   "source": [
    "# summarize history for accuracy\n",
    "plt.plot(history6['precision'])\n",
    "plt.plot(history6['val_precision'])\n",
    "plt.title('model accuracy')\n",
    "plt.ylabel('accuracy')\n",
    "plt.xlabel('epoch')\n",
    "plt.legend(['train', 'validation'], loc='upper left')\n",
    "plt.show()"
   ]
  },
  {
   "cell_type": "code",
   "execution_count": 183,
   "metadata": {
    "scrolled": true
   },
   "outputs": [
    {
     "data": {
      "image/png": "[encoded data removed]",
      "text/plain": [
       "<Figure size 432x288 with 1 Axes>"
      ]
     },
     "metadata": {
      "needs_background": "light"
     },
     "output_type": "display_data"
    }
   ],
   "source": [
    "# summarize history for loss\n",
    "plt.plot(history6['loss'])\n",
    "plt.plot(history6['val_loss'])\n",
    "plt.title('model loss')\n",
    "plt.ylabel('loss')\n",
    "plt.xlabel('epoch')\n",
    "plt.legend(['train', 'validation'], loc='upper left')\n",
    "plt.show()"
   ]
  },
  {
   "cell_type": "code",
   "execution_count": 184,
   "metadata": {},
   "outputs": [
    {
     "data": {
      "image/png": "[encoded data removed]",
      "text/plain": [
       "<Figure size 432x288 with 1 Axes>"
      ]
     },
     "metadata": {
      "needs_background": "light"
     },
     "output_type": "display_data"
    }
   ],
   "source": [
    "# summarize history for loss\n",
    "plt.plot(history6['iou_score'])\n",
    "plt.plot(history6['val_iou_score'])\n",
    "plt.title('model IOU score')\n",
    "plt.ylabel('IOU score')\n",
    "plt.xlabel('epoch')\n",
    "plt.legend(['train', 'validation'], loc='upper left')\n",
    "plt.show()"
   ]
  },
  {
   "cell_type": "code",
   "execution_count": null,
   "metadata": {},
   "outputs": [],
   "source": []
  },
  {
   "cell_type": "code",
   "execution_count": 5,
   "metadata": {},
   "outputs": [],
   "source": [
    "train_precision=[0.94563645,0.9485409,0.9516943,0.9489124,0.9521983,0.9502203]"
   ]
  },
  {
   "cell_type": "code",
   "execution_count": 6,
   "metadata": {},
   "outputs": [],
   "source": [
    "val_precision=[0.50142586,0.74730504,0.7879129,0.79522204,0.79079646,0.8112839]"
   ]
  },
  {
   "cell_type": "code",
   "execution_count": 7,
   "metadata": {},
   "outputs": [],
   "source": [
    "data_size=[50000,60000,70000,80000,90000,100000]"
   ]
  },
  {
   "cell_type": "code",
   "execution_count": 8,
   "metadata": {},
   "outputs": [
    {
     "data": {
      "image/png": "[encoded data removed]",
      "text/plain": [
       "<Figure size 432x288 with 1 Axes>"
      ]
     },
     "metadata": {
      "needs_background": "light"
     },
     "output_type": "display_data"
    }
   ],
   "source": [
    "plt.plot(data_size,train_precision)\n",
    "plt.plot(data_size,val_precision)\n",
    "plt.title(' model precision by training sample size')\n",
    "plt.ylabel('precision')\n",
    "plt.xlabel('training sample size')\n",
    "plt.legend(['train', 'validation'], loc='upper left')\n",
    "plt.show()"
   ]
  }
 ],
 "metadata": {
  "kernelspec": {
   "display_name": "Python 3",
   "language": "python",
   "name": "python3"
  },
  "language_info": {
   "codemirror_mode": {
    "name": "ipython",
    "version": 3
   },
   "file_extension": ".py",
   "mimetype": "text/x-python",
   "name": "python",
   "nbconvert_exporter": "python",
   "pygments_lexer": "ipython3",
   "version": "3.7.0"
  }
 },
 "nbformat": 4,
 "nbformat_minor": 4
}
